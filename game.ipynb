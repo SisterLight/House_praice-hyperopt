{
 "cells": [
  {
   "cell_type": "markdown",
   "metadata": {},
   "source": [
    "# Исследование компьютерных игр\n",
    "\n",
    "Вы работаете в интернет-магазине «Стримчик», который продаёт по всему миру компьютерные игры. Из открытых источников доступны исторические данные о продажах игр, оценки пользователей и экспертов, жанры и платформы (например, Xbox или PlayStation). Вам нужно выявить определяющие успешность игры закономерности. Это позволит сделать ставку на потенциально популярный продукт и спланировать рекламные кампании.\n",
    "Перед вами данные до 2016 года. Представим, что сейчас декабрь 2016 г., и вы планируете кампанию на 2017-й. Нужно отработать принцип работы с данными. Неважно, прогнозируете ли вы продажи на 2017 год по данным 2016-го или же 2027-й — по данным 2026 года.\n",
    "В наборе данных попадается аббревиатура ESRB (Entertainment Software Rating Board) — это ассоциация, определяющая возрастной рейтинг компьютерных игр. ESRB оценивает игровой контент и присваивает ему подходящую возрастную категорию, например, «Для взрослых», «Для детей младшего возраста» или «Для подростков»."
   ]
  },
  {
   "cell_type": "markdown",
   "metadata": {},
   "source": [
    "### 0. Служебные функци для быстрого строительства графиков"
   ]
  },
  {
   "cell_type": "code",
   "execution_count": 25,
   "metadata": {},
   "outputs": [],
   "source": [
    "import matplotlib.pyplot as plt\n",
    "import pandas as pd\n",
    "import numpy as np\n",
    "from nltk.stem import SnowballStemmer \n",
    "import re\n",
    "import seaborn as sns\n",
    "from scipy import stats as st\n",
    "\n",
    "en_stemmer = SnowballStemmer('english')\n",
    " \n",
    "g = 0\n",
    "def myhist(b, x,xl):\n",
    "    global g\n",
    "    g+=1\n",
    "    ax=plt.gca()\n",
    "    sns.distplot(x,bins=b, label = xl)\n",
    "    ax.set_xlabel(xl)\n",
    "    ax.set_ylabel('частота')\n",
    "    ax.set_title(f'Гистограмма {g}: ' + xl) \n",
    "b=0\n",
    "def mybox(x, yl, h, r):\n",
    "    global b\n",
    "    b+=1    \n",
    "    plt.title(f'Диаграмма размаха {b}: ' + yl)\n",
    "    plt.xlim(r)\n",
    "    plt.ylabel(yl)\n",
    "    plt.boxplot(x, vert=h)"
   ]
  },
  {
   "cell_type": "markdown",
   "metadata": {},
   "source": [
    "<div class=\"alert alert-success\">\n",
    "<h2> Комментарии от ревьюера, проверка №1</h2>\n",
    "    \n",
    "Серьезный подход, я бы даже сказал основательный\n",
    "</div>"
   ]
  },
  {
   "cell_type": "markdown",
   "metadata": {},
   "source": [
    "## Шаг 1. Откройте файл с данными и изучите общую информацию"
   ]
  },
  {
   "cell_type": "code",
   "execution_count": 37,
   "metadata": {},
   "outputs": [
    {
     "data": {
      "text/html": [
       "<div>\n",
       "<style scoped>\n",
       "    .dataframe tbody tr th:only-of-type {\n",
       "        vertical-align: middle;\n",
       "    }\n",
       "\n",
       "    .dataframe tbody tr th {\n",
       "        vertical-align: top;\n",
       "    }\n",
       "\n",
       "    .dataframe thead th {\n",
       "        text-align: right;\n",
       "    }\n",
       "</style>\n",
       "<table border=\"1\" class=\"dataframe\">\n",
       "  <thead>\n",
       "    <tr style=\"text-align: right;\">\n",
       "      <th></th>\n",
       "      <th>Name</th>\n",
       "      <th>Platform</th>\n",
       "      <th>Year_of_Release</th>\n",
       "      <th>Genre</th>\n",
       "      <th>NA_sales</th>\n",
       "      <th>EU_sales</th>\n",
       "      <th>JP_sales</th>\n",
       "      <th>Other_sales</th>\n",
       "      <th>Critic_Score</th>\n",
       "      <th>User_Score</th>\n",
       "      <th>Rating</th>\n",
       "    </tr>\n",
       "  </thead>\n",
       "  <tbody>\n",
       "    <tr>\n",
       "      <td>0</td>\n",
       "      <td>Wii Sports</td>\n",
       "      <td>Wii</td>\n",
       "      <td>2006.0</td>\n",
       "      <td>Sports</td>\n",
       "      <td>41.36</td>\n",
       "      <td>28.96</td>\n",
       "      <td>3.77</td>\n",
       "      <td>8.45</td>\n",
       "      <td>76.0</td>\n",
       "      <td>8</td>\n",
       "      <td>E</td>\n",
       "    </tr>\n",
       "    <tr>\n",
       "      <td>1</td>\n",
       "      <td>Super Mario Bros.</td>\n",
       "      <td>NES</td>\n",
       "      <td>1985.0</td>\n",
       "      <td>Platform</td>\n",
       "      <td>29.08</td>\n",
       "      <td>3.58</td>\n",
       "      <td>6.81</td>\n",
       "      <td>0.77</td>\n",
       "      <td>NaN</td>\n",
       "      <td>NaN</td>\n",
       "      <td>NaN</td>\n",
       "    </tr>\n",
       "    <tr>\n",
       "      <td>2</td>\n",
       "      <td>Mario Kart Wii</td>\n",
       "      <td>Wii</td>\n",
       "      <td>2008.0</td>\n",
       "      <td>Racing</td>\n",
       "      <td>15.68</td>\n",
       "      <td>12.76</td>\n",
       "      <td>3.79</td>\n",
       "      <td>3.29</td>\n",
       "      <td>82.0</td>\n",
       "      <td>8.3</td>\n",
       "      <td>E</td>\n",
       "    </tr>\n",
       "    <tr>\n",
       "      <td>3</td>\n",
       "      <td>Wii Sports Resort</td>\n",
       "      <td>Wii</td>\n",
       "      <td>2009.0</td>\n",
       "      <td>Sports</td>\n",
       "      <td>15.61</td>\n",
       "      <td>10.93</td>\n",
       "      <td>3.28</td>\n",
       "      <td>2.95</td>\n",
       "      <td>80.0</td>\n",
       "      <td>8</td>\n",
       "      <td>E</td>\n",
       "    </tr>\n",
       "    <tr>\n",
       "      <td>4</td>\n",
       "      <td>Pokemon Red/Pokemon Blue</td>\n",
       "      <td>GB</td>\n",
       "      <td>1996.0</td>\n",
       "      <td>Role-Playing</td>\n",
       "      <td>11.27</td>\n",
       "      <td>8.89</td>\n",
       "      <td>10.22</td>\n",
       "      <td>1.00</td>\n",
       "      <td>NaN</td>\n",
       "      <td>NaN</td>\n",
       "      <td>NaN</td>\n",
       "    </tr>\n",
       "  </tbody>\n",
       "</table>\n",
       "</div>"
      ],
      "text/plain": [
       "                       Name Platform  Year_of_Release         Genre  NA_sales  \\\n",
       "0                Wii Sports      Wii           2006.0        Sports     41.36   \n",
       "1         Super Mario Bros.      NES           1985.0      Platform     29.08   \n",
       "2            Mario Kart Wii      Wii           2008.0        Racing     15.68   \n",
       "3         Wii Sports Resort      Wii           2009.0        Sports     15.61   \n",
       "4  Pokemon Red/Pokemon Blue       GB           1996.0  Role-Playing     11.27   \n",
       "\n",
       "   EU_sales  JP_sales  Other_sales  Critic_Score User_Score Rating  \n",
       "0     28.96      3.77         8.45          76.0          8      E  \n",
       "1      3.58      6.81         0.77           NaN        NaN    NaN  \n",
       "2     12.76      3.79         3.29          82.0        8.3      E  \n",
       "3     10.93      3.28         2.95          80.0          8      E  \n",
       "4      8.89     10.22         1.00           NaN        NaN    NaN  "
      ]
     },
     "execution_count": 37,
     "metadata": {},
     "output_type": "execute_result"
    }
   ],
   "source": [
    "df = pd.read_csv('/datasets/games.csv')\n",
    "df.head() "
   ]
  },
  {
   "cell_type": "code",
   "execution_count": 38,
   "metadata": {},
   "outputs": [
    {
     "name": "stdout",
     "output_type": "stream",
     "text": [
      "<class 'pandas.core.frame.DataFrame'>\n",
      "RangeIndex: 16715 entries, 0 to 16714\n",
      "Data columns (total 11 columns):\n",
      "Name               16713 non-null object\n",
      "Platform           16715 non-null object\n",
      "Year_of_Release    16446 non-null float64\n",
      "Genre              16713 non-null object\n",
      "NA_sales           16715 non-null float64\n",
      "EU_sales           16715 non-null float64\n",
      "JP_sales           16715 non-null float64\n",
      "Other_sales        16715 non-null float64\n",
      "Critic_Score       8137 non-null float64\n",
      "User_Score         10014 non-null object\n",
      "Rating             9949 non-null object\n",
      "dtypes: float64(6), object(5)\n",
      "memory usage: 1.4+ MB\n"
     ]
    }
   ],
   "source": [
    "df.info()"
   ]
  },
  {
   "cell_type": "markdown",
   "metadata": {},
   "source": [
    "#### Описание данных\n",
    "\n",
    "* Name — название игры\n",
    "* Platform — платформа\n",
    "* Year_of_Release — год выпуска\n",
    "* Genre — жанр игры\n",
    "* NA_sales — продажи в Северной Америке (миллионы проданных копий)\n",
    "* EU_sales — продажи в Европе (миллионы проданных копий)\n",
    "* JP_sales — продажи в Японии (миллионы проданных копий)\n",
    "* Other_sales — продажи в других странах (миллионы проданных копий)\n",
    "* Critic_Score — оценка критиков (максимум 100)\n",
    "* User_Score — оценка пользователей (максимум 10)\n",
    "* Rating — рейтинг от организации ESRB (англ. Entertainment Software Rating Board). Эта ассоциация определяет рейтинг компьютерных игр и присваивает им подходящую возрастную категорию.\n"
   ]
  },
  {
   "cell_type": "markdown",
   "metadata": {},
   "source": [
    "##  Шаг 2. Подготовьте данные\n",
    "\n",
    "### Заменим названия столбцов"
   ]
  },
  {
   "cell_type": "code",
   "execution_count": 39,
   "metadata": {},
   "outputs": [],
   "source": [
    "df.columns = [x.lower() for x in df.columns]"
   ]
  },
  {
   "cell_type": "markdown",
   "metadata": {},
   "source": [
    "### Преобразование данных\n",
    "Преобразуем данные у user_score."
   ]
  },
  {
   "cell_type": "code",
   "execution_count": 40,
   "metadata": {
    "scrolled": true
   },
   "outputs": [
    {
     "data": {
      "text/plain": [
       "NaN    6701\n",
       "tbd    2424\n",
       "7.8     324\n",
       "8       290\n",
       "8.2     282\n",
       "       ... \n",
       "1.1       2\n",
       "1.5       2\n",
       "0.5       2\n",
       "9.7       1\n",
       "0         1\n",
       "Name: user_score, Length: 97, dtype: int64"
      ]
     },
     "execution_count": 40,
     "metadata": {},
     "output_type": "execute_result"
    }
   ],
   "source": [
    "df.user_score.value_counts(dropna = False)"
   ]
  },
  {
   "cell_type": "markdown",
   "metadata": {},
   "source": [
    "Больше 9000 данных отсутствуют - либо их оценил никто (NaN), либо очень мало человек - tbd. Так как данных 55%, то мы не можем их как-то заполнить."
   ]
  },
  {
   "cell_type": "markdown",
   "metadata": {},
   "source": [
    "### Обработка пропусков"
   ]
  },
  {
   "cell_type": "markdown",
   "metadata": {},
   "source": [
    "Посмотрим на 2 noname игры"
   ]
  },
  {
   "cell_type": "code",
   "execution_count": 41,
   "metadata": {
    "scrolled": true
   },
   "outputs": [
    {
     "data": {
      "text/html": [
       "<div>\n",
       "<style scoped>\n",
       "    .dataframe tbody tr th:only-of-type {\n",
       "        vertical-align: middle;\n",
       "    }\n",
       "\n",
       "    .dataframe tbody tr th {\n",
       "        vertical-align: top;\n",
       "    }\n",
       "\n",
       "    .dataframe thead th {\n",
       "        text-align: right;\n",
       "    }\n",
       "</style>\n",
       "<table border=\"1\" class=\"dataframe\">\n",
       "  <thead>\n",
       "    <tr style=\"text-align: right;\">\n",
       "      <th></th>\n",
       "      <th>name</th>\n",
       "      <th>platform</th>\n",
       "      <th>year_of_release</th>\n",
       "      <th>genre</th>\n",
       "      <th>na_sales</th>\n",
       "      <th>eu_sales</th>\n",
       "      <th>jp_sales</th>\n",
       "      <th>other_sales</th>\n",
       "      <th>critic_score</th>\n",
       "      <th>user_score</th>\n",
       "      <th>rating</th>\n",
       "    </tr>\n",
       "  </thead>\n",
       "  <tbody>\n",
       "    <tr>\n",
       "      <td>659</td>\n",
       "      <td>NaN</td>\n",
       "      <td>GEN</td>\n",
       "      <td>1993.0</td>\n",
       "      <td>NaN</td>\n",
       "      <td>1.78</td>\n",
       "      <td>0.53</td>\n",
       "      <td>0.00</td>\n",
       "      <td>0.08</td>\n",
       "      <td>NaN</td>\n",
       "      <td>NaN</td>\n",
       "      <td>NaN</td>\n",
       "    </tr>\n",
       "    <tr>\n",
       "      <td>14244</td>\n",
       "      <td>NaN</td>\n",
       "      <td>GEN</td>\n",
       "      <td>1993.0</td>\n",
       "      <td>NaN</td>\n",
       "      <td>0.00</td>\n",
       "      <td>0.00</td>\n",
       "      <td>0.03</td>\n",
       "      <td>0.00</td>\n",
       "      <td>NaN</td>\n",
       "      <td>NaN</td>\n",
       "      <td>NaN</td>\n",
       "    </tr>\n",
       "  </tbody>\n",
       "</table>\n",
       "</div>"
      ],
      "text/plain": [
       "      name platform  year_of_release genre  na_sales  eu_sales  jp_sales  \\\n",
       "659    NaN      GEN           1993.0   NaN      1.78      0.53      0.00   \n",
       "14244  NaN      GEN           1993.0   NaN      0.00      0.00      0.03   \n",
       "\n",
       "       other_sales  critic_score user_score rating  \n",
       "659           0.08           NaN        NaN    NaN  \n",
       "14244         0.00           NaN        NaN    NaN  "
      ]
     },
     "execution_count": 41,
     "metadata": {},
     "output_type": "execute_result"
    }
   ],
   "source": [
    "df[df['name'].isnull()]"
   ]
  },
  {
   "cell_type": "markdown",
   "metadata": {},
   "source": [
    "О них особо ничего нельзя сказать, особенно о последней. Смело удаляем эти игры. Их можно было бы оставить, имей они хоть жанр. Предположительно род ошибки - человеческий фактор. Ну и программный недосмотр - не стоит иметь возможность вносить такие игры в список."
   ]
  },
  {
   "cell_type": "code",
   "execution_count": 42,
   "metadata": {},
   "outputs": [],
   "source": [
    "df = df[df['name'].notnull()]"
   ]
  },
  {
   "cell_type": "markdown",
   "metadata": {},
   "source": [
    "Рейтинг мало где известен, поэтому пропуски заполним 'unknow'."
   ]
  },
  {
   "cell_type": "code",
   "execution_count": 45,
   "metadata": {},
   "outputs": [],
   "source": [
    "df['rating'] = df['rating'].fillna('unknow')"
   ]
  },
  {
   "cell_type": "markdown",
   "metadata": {},
   "source": [
    "Посмотрим на игры с незаполненым годом выпуска."
   ]
  },
  {
   "cell_type": "code",
   "execution_count": 47,
   "metadata": {},
   "outputs": [
    {
     "data": {
      "text/html": [
       "<div>\n",
       "<style scoped>\n",
       "    .dataframe tbody tr th:only-of-type {\n",
       "        vertical-align: middle;\n",
       "    }\n",
       "\n",
       "    .dataframe tbody tr th {\n",
       "        vertical-align: top;\n",
       "    }\n",
       "\n",
       "    .dataframe thead th {\n",
       "        text-align: right;\n",
       "    }\n",
       "</style>\n",
       "<table border=\"1\" class=\"dataframe\">\n",
       "  <thead>\n",
       "    <tr style=\"text-align: right;\">\n",
       "      <th></th>\n",
       "      <th>name</th>\n",
       "      <th>platform</th>\n",
       "      <th>year_of_release</th>\n",
       "      <th>genre</th>\n",
       "      <th>na_sales</th>\n",
       "      <th>eu_sales</th>\n",
       "      <th>jp_sales</th>\n",
       "      <th>other_sales</th>\n",
       "      <th>critic_score</th>\n",
       "      <th>user_score</th>\n",
       "      <th>rating</th>\n",
       "    </tr>\n",
       "  </thead>\n",
       "  <tbody>\n",
       "    <tr>\n",
       "      <td>183</td>\n",
       "      <td>Madden NFL 2004</td>\n",
       "      <td>PS2</td>\n",
       "      <td>NaN</td>\n",
       "      <td>Sports</td>\n",
       "      <td>4.26</td>\n",
       "      <td>0.26</td>\n",
       "      <td>0.01</td>\n",
       "      <td>0.71</td>\n",
       "      <td>94.0</td>\n",
       "      <td>8.5</td>\n",
       "      <td>E</td>\n",
       "    </tr>\n",
       "    <tr>\n",
       "      <td>377</td>\n",
       "      <td>FIFA Soccer 2004</td>\n",
       "      <td>PS2</td>\n",
       "      <td>NaN</td>\n",
       "      <td>Sports</td>\n",
       "      <td>0.59</td>\n",
       "      <td>2.36</td>\n",
       "      <td>0.04</td>\n",
       "      <td>0.51</td>\n",
       "      <td>84.0</td>\n",
       "      <td>6.4</td>\n",
       "      <td>E</td>\n",
       "    </tr>\n",
       "    <tr>\n",
       "      <td>456</td>\n",
       "      <td>LEGO Batman: The Videogame</td>\n",
       "      <td>Wii</td>\n",
       "      <td>NaN</td>\n",
       "      <td>Action</td>\n",
       "      <td>1.80</td>\n",
       "      <td>0.97</td>\n",
       "      <td>0.00</td>\n",
       "      <td>0.29</td>\n",
       "      <td>74.0</td>\n",
       "      <td>7.9</td>\n",
       "      <td>E10+</td>\n",
       "    </tr>\n",
       "    <tr>\n",
       "      <td>475</td>\n",
       "      <td>wwe Smackdown vs. Raw 2006</td>\n",
       "      <td>PS2</td>\n",
       "      <td>NaN</td>\n",
       "      <td>Fighting</td>\n",
       "      <td>1.57</td>\n",
       "      <td>1.02</td>\n",
       "      <td>0.00</td>\n",
       "      <td>0.41</td>\n",
       "      <td>NaN</td>\n",
       "      <td>NaN</td>\n",
       "      <td>unknow</td>\n",
       "    </tr>\n",
       "    <tr>\n",
       "      <td>609</td>\n",
       "      <td>Space Invaders</td>\n",
       "      <td>2600</td>\n",
       "      <td>NaN</td>\n",
       "      <td>Shooter</td>\n",
       "      <td>2.36</td>\n",
       "      <td>0.14</td>\n",
       "      <td>0.00</td>\n",
       "      <td>0.03</td>\n",
       "      <td>NaN</td>\n",
       "      <td>NaN</td>\n",
       "      <td>unknow</td>\n",
       "    </tr>\n",
       "    <tr>\n",
       "      <td>...</td>\n",
       "      <td>...</td>\n",
       "      <td>...</td>\n",
       "      <td>...</td>\n",
       "      <td>...</td>\n",
       "      <td>...</td>\n",
       "      <td>...</td>\n",
       "      <td>...</td>\n",
       "      <td>...</td>\n",
       "      <td>...</td>\n",
       "      <td>...</td>\n",
       "      <td>...</td>\n",
       "    </tr>\n",
       "    <tr>\n",
       "      <td>16373</td>\n",
       "      <td>PDC World Championship Darts 2008</td>\n",
       "      <td>PSP</td>\n",
       "      <td>NaN</td>\n",
       "      <td>Sports</td>\n",
       "      <td>0.01</td>\n",
       "      <td>0.00</td>\n",
       "      <td>0.00</td>\n",
       "      <td>0.00</td>\n",
       "      <td>43.0</td>\n",
       "      <td>tbd</td>\n",
       "      <td>E10+</td>\n",
       "    </tr>\n",
       "    <tr>\n",
       "      <td>16405</td>\n",
       "      <td>Freaky Flyers</td>\n",
       "      <td>GC</td>\n",
       "      <td>NaN</td>\n",
       "      <td>Racing</td>\n",
       "      <td>0.01</td>\n",
       "      <td>0.00</td>\n",
       "      <td>0.00</td>\n",
       "      <td>0.00</td>\n",
       "      <td>69.0</td>\n",
       "      <td>6.5</td>\n",
       "      <td>T</td>\n",
       "    </tr>\n",
       "    <tr>\n",
       "      <td>16448</td>\n",
       "      <td>Inversion</td>\n",
       "      <td>PC</td>\n",
       "      <td>NaN</td>\n",
       "      <td>Shooter</td>\n",
       "      <td>0.01</td>\n",
       "      <td>0.00</td>\n",
       "      <td>0.00</td>\n",
       "      <td>0.00</td>\n",
       "      <td>59.0</td>\n",
       "      <td>6.7</td>\n",
       "      <td>M</td>\n",
       "    </tr>\n",
       "    <tr>\n",
       "      <td>16458</td>\n",
       "      <td>Hakuouki: Shinsengumi Kitan</td>\n",
       "      <td>PS3</td>\n",
       "      <td>NaN</td>\n",
       "      <td>Adventure</td>\n",
       "      <td>0.01</td>\n",
       "      <td>0.00</td>\n",
       "      <td>0.00</td>\n",
       "      <td>0.00</td>\n",
       "      <td>NaN</td>\n",
       "      <td>NaN</td>\n",
       "      <td>unknow</td>\n",
       "    </tr>\n",
       "    <tr>\n",
       "      <td>16522</td>\n",
       "      <td>Virtua Quest</td>\n",
       "      <td>GC</td>\n",
       "      <td>NaN</td>\n",
       "      <td>Role-Playing</td>\n",
       "      <td>0.01</td>\n",
       "      <td>0.00</td>\n",
       "      <td>0.00</td>\n",
       "      <td>0.00</td>\n",
       "      <td>55.0</td>\n",
       "      <td>5.5</td>\n",
       "      <td>T</td>\n",
       "    </tr>\n",
       "  </tbody>\n",
       "</table>\n",
       "<p>269 rows × 11 columns</p>\n",
       "</div>"
      ],
      "text/plain": [
       "                                    name platform  year_of_release  \\\n",
       "183                      Madden NFL 2004      PS2              NaN   \n",
       "377                     FIFA Soccer 2004      PS2              NaN   \n",
       "456           LEGO Batman: The Videogame      Wii              NaN   \n",
       "475           wwe Smackdown vs. Raw 2006      PS2              NaN   \n",
       "609                       Space Invaders     2600              NaN   \n",
       "...                                  ...      ...              ...   \n",
       "16373  PDC World Championship Darts 2008      PSP              NaN   \n",
       "16405                      Freaky Flyers       GC              NaN   \n",
       "16448                          Inversion       PC              NaN   \n",
       "16458        Hakuouki: Shinsengumi Kitan      PS3              NaN   \n",
       "16522                       Virtua Quest       GC              NaN   \n",
       "\n",
       "              genre  na_sales  eu_sales  jp_sales  other_sales  critic_score  \\\n",
       "183          Sports      4.26      0.26      0.01         0.71          94.0   \n",
       "377          Sports      0.59      2.36      0.04         0.51          84.0   \n",
       "456          Action      1.80      0.97      0.00         0.29          74.0   \n",
       "475        Fighting      1.57      1.02      0.00         0.41           NaN   \n",
       "609         Shooter      2.36      0.14      0.00         0.03           NaN   \n",
       "...             ...       ...       ...       ...          ...           ...   \n",
       "16373        Sports      0.01      0.00      0.00         0.00          43.0   \n",
       "16405        Racing      0.01      0.00      0.00         0.00          69.0   \n",
       "16448       Shooter      0.01      0.00      0.00         0.00          59.0   \n",
       "16458     Adventure      0.01      0.00      0.00         0.00           NaN   \n",
       "16522  Role-Playing      0.01      0.00      0.00         0.00          55.0   \n",
       "\n",
       "      user_score  rating  \n",
       "183          8.5       E  \n",
       "377          6.4       E  \n",
       "456          7.9    E10+  \n",
       "475          NaN  unknow  \n",
       "609          NaN  unknow  \n",
       "...          ...     ...  \n",
       "16373        tbd    E10+  \n",
       "16405        6.5       T  \n",
       "16448        6.7       M  \n",
       "16458        NaN  unknow  \n",
       "16522        5.5       T  \n",
       "\n",
       "[269 rows x 11 columns]"
      ]
     },
     "execution_count": 47,
     "metadata": {},
     "output_type": "execute_result"
    }
   ],
   "source": [
    "df.loc[df['year_of_release'].isnull()]"
   ]
  },
  {
   "cell_type": "markdown",
   "metadata": {},
   "source": [
    "Мы видим, что зачастую в названиях фигурирует год выпуска игры, воспользуемся этим"
   ]
  },
  {
   "cell_type": "code",
   "execution_count": 48,
   "metadata": {},
   "outputs": [],
   "source": [
    "def year_extract(x):\n",
    "    year =  re.findall(r'\\d{4}',x)\n",
    "    if year !=[]:\n",
    "        return int(''.join(year))\n",
    "    else:\n",
    "        return np.nan"
   ]
  },
  {
   "cell_type": "code",
   "execution_count": 52,
   "metadata": {},
   "outputs": [
    {
     "data": {
      "text/plain": [
       "252"
      ]
     },
     "execution_count": 52,
     "metadata": {},
     "output_type": "execute_result"
    }
   ],
   "source": [
    "df.loc[df['year_of_release'].isnull(), 'year_of_release'] = df.loc[df['year_of_release'].isnull(), 'name'].apply(year_extract)\n",
    "len(df.loc[df['year_of_release'].isnull()])"
   ]
  },
  {
   "cell_type": "code",
   "execution_count": 53,
   "metadata": {},
   "outputs": [],
   "source": [
    "df = df.loc[df['year_of_release'].notnull()]"
   ]
  },
  {
   "cell_type": "code",
   "execution_count": 54,
   "metadata": {},
   "outputs": [],
   "source": [
    "df['year_of_release'] = df['year_of_release'].astype('int')"
   ]
  },
  {
   "cell_type": "markdown",
   "metadata": {},
   "source": [
    "Оценку критиков не стоит заполнять, так как у нас нет предпосылок к их заполнению. Заполним поле общих продаж"
   ]
  },
  {
   "cell_type": "code",
   "execution_count": 55,
   "metadata": {},
   "outputs": [
    {
     "data": {
      "text/html": [
       "<div>\n",
       "<style scoped>\n",
       "    .dataframe tbody tr th:only-of-type {\n",
       "        vertical-align: middle;\n",
       "    }\n",
       "\n",
       "    .dataframe tbody tr th {\n",
       "        vertical-align: top;\n",
       "    }\n",
       "\n",
       "    .dataframe thead th {\n",
       "        text-align: right;\n",
       "    }\n",
       "</style>\n",
       "<table border=\"1\" class=\"dataframe\">\n",
       "  <thead>\n",
       "    <tr style=\"text-align: right;\">\n",
       "      <th></th>\n",
       "      <th>name</th>\n",
       "      <th>platform</th>\n",
       "      <th>year_of_release</th>\n",
       "      <th>genre</th>\n",
       "      <th>na_sales</th>\n",
       "      <th>eu_sales</th>\n",
       "      <th>jp_sales</th>\n",
       "      <th>other_sales</th>\n",
       "      <th>critic_score</th>\n",
       "      <th>user_score</th>\n",
       "      <th>rating</th>\n",
       "      <th>sales</th>\n",
       "    </tr>\n",
       "  </thead>\n",
       "  <tbody>\n",
       "    <tr>\n",
       "      <td>0</td>\n",
       "      <td>Wii Sports</td>\n",
       "      <td>Wii</td>\n",
       "      <td>2006</td>\n",
       "      <td>Sports</td>\n",
       "      <td>41.36</td>\n",
       "      <td>28.96</td>\n",
       "      <td>3.77</td>\n",
       "      <td>8.45</td>\n",
       "      <td>76.0</td>\n",
       "      <td>8</td>\n",
       "      <td>E</td>\n",
       "      <td>82.54</td>\n",
       "    </tr>\n",
       "    <tr>\n",
       "      <td>1</td>\n",
       "      <td>Super Mario Bros.</td>\n",
       "      <td>NES</td>\n",
       "      <td>1985</td>\n",
       "      <td>Platform</td>\n",
       "      <td>29.08</td>\n",
       "      <td>3.58</td>\n",
       "      <td>6.81</td>\n",
       "      <td>0.77</td>\n",
       "      <td>NaN</td>\n",
       "      <td>NaN</td>\n",
       "      <td>unknow</td>\n",
       "      <td>40.24</td>\n",
       "    </tr>\n",
       "    <tr>\n",
       "      <td>2</td>\n",
       "      <td>Mario Kart Wii</td>\n",
       "      <td>Wii</td>\n",
       "      <td>2008</td>\n",
       "      <td>Racing</td>\n",
       "      <td>15.68</td>\n",
       "      <td>12.76</td>\n",
       "      <td>3.79</td>\n",
       "      <td>3.29</td>\n",
       "      <td>82.0</td>\n",
       "      <td>8.3</td>\n",
       "      <td>E</td>\n",
       "      <td>35.52</td>\n",
       "    </tr>\n",
       "    <tr>\n",
       "      <td>3</td>\n",
       "      <td>Wii Sports Resort</td>\n",
       "      <td>Wii</td>\n",
       "      <td>2009</td>\n",
       "      <td>Sports</td>\n",
       "      <td>15.61</td>\n",
       "      <td>10.93</td>\n",
       "      <td>3.28</td>\n",
       "      <td>2.95</td>\n",
       "      <td>80.0</td>\n",
       "      <td>8</td>\n",
       "      <td>E</td>\n",
       "      <td>32.77</td>\n",
       "    </tr>\n",
       "    <tr>\n",
       "      <td>4</td>\n",
       "      <td>Pokemon Red/Pokemon Blue</td>\n",
       "      <td>GB</td>\n",
       "      <td>1996</td>\n",
       "      <td>Role-Playing</td>\n",
       "      <td>11.27</td>\n",
       "      <td>8.89</td>\n",
       "      <td>10.22</td>\n",
       "      <td>1.00</td>\n",
       "      <td>NaN</td>\n",
       "      <td>NaN</td>\n",
       "      <td>unknow</td>\n",
       "      <td>31.38</td>\n",
       "    </tr>\n",
       "    <tr>\n",
       "      <td>...</td>\n",
       "      <td>...</td>\n",
       "      <td>...</td>\n",
       "      <td>...</td>\n",
       "      <td>...</td>\n",
       "      <td>...</td>\n",
       "      <td>...</td>\n",
       "      <td>...</td>\n",
       "      <td>...</td>\n",
       "      <td>...</td>\n",
       "      <td>...</td>\n",
       "      <td>...</td>\n",
       "      <td>...</td>\n",
       "    </tr>\n",
       "    <tr>\n",
       "      <td>16710</td>\n",
       "      <td>Samurai Warriors: Sanada Maru</td>\n",
       "      <td>PS3</td>\n",
       "      <td>2016</td>\n",
       "      <td>Action</td>\n",
       "      <td>0.00</td>\n",
       "      <td>0.00</td>\n",
       "      <td>0.01</td>\n",
       "      <td>0.00</td>\n",
       "      <td>NaN</td>\n",
       "      <td>NaN</td>\n",
       "      <td>unknow</td>\n",
       "      <td>0.01</td>\n",
       "    </tr>\n",
       "    <tr>\n",
       "      <td>16711</td>\n",
       "      <td>LMA Manager 2007</td>\n",
       "      <td>X360</td>\n",
       "      <td>2006</td>\n",
       "      <td>Sports</td>\n",
       "      <td>0.00</td>\n",
       "      <td>0.01</td>\n",
       "      <td>0.00</td>\n",
       "      <td>0.00</td>\n",
       "      <td>NaN</td>\n",
       "      <td>NaN</td>\n",
       "      <td>unknow</td>\n",
       "      <td>0.01</td>\n",
       "    </tr>\n",
       "    <tr>\n",
       "      <td>16712</td>\n",
       "      <td>Haitaka no Psychedelica</td>\n",
       "      <td>PSV</td>\n",
       "      <td>2016</td>\n",
       "      <td>Adventure</td>\n",
       "      <td>0.00</td>\n",
       "      <td>0.00</td>\n",
       "      <td>0.01</td>\n",
       "      <td>0.00</td>\n",
       "      <td>NaN</td>\n",
       "      <td>NaN</td>\n",
       "      <td>unknow</td>\n",
       "      <td>0.01</td>\n",
       "    </tr>\n",
       "    <tr>\n",
       "      <td>16713</td>\n",
       "      <td>Spirits &amp; Spells</td>\n",
       "      <td>GBA</td>\n",
       "      <td>2003</td>\n",
       "      <td>Platform</td>\n",
       "      <td>0.01</td>\n",
       "      <td>0.00</td>\n",
       "      <td>0.00</td>\n",
       "      <td>0.00</td>\n",
       "      <td>NaN</td>\n",
       "      <td>NaN</td>\n",
       "      <td>unknow</td>\n",
       "      <td>0.01</td>\n",
       "    </tr>\n",
       "    <tr>\n",
       "      <td>16714</td>\n",
       "      <td>Winning Post 8 2016</td>\n",
       "      <td>PSV</td>\n",
       "      <td>2016</td>\n",
       "      <td>Simulation</td>\n",
       "      <td>0.00</td>\n",
       "      <td>0.00</td>\n",
       "      <td>0.01</td>\n",
       "      <td>0.00</td>\n",
       "      <td>NaN</td>\n",
       "      <td>NaN</td>\n",
       "      <td>unknow</td>\n",
       "      <td>0.01</td>\n",
       "    </tr>\n",
       "  </tbody>\n",
       "</table>\n",
       "<p>16461 rows × 12 columns</p>\n",
       "</div>"
      ],
      "text/plain": [
       "                                name platform  year_of_release         genre  \\\n",
       "0                         Wii Sports      Wii             2006        Sports   \n",
       "1                  Super Mario Bros.      NES             1985      Platform   \n",
       "2                     Mario Kart Wii      Wii             2008        Racing   \n",
       "3                  Wii Sports Resort      Wii             2009        Sports   \n",
       "4           Pokemon Red/Pokemon Blue       GB             1996  Role-Playing   \n",
       "...                              ...      ...              ...           ...   \n",
       "16710  Samurai Warriors: Sanada Maru      PS3             2016        Action   \n",
       "16711               LMA Manager 2007     X360             2006        Sports   \n",
       "16712        Haitaka no Psychedelica      PSV             2016     Adventure   \n",
       "16713               Spirits & Spells      GBA             2003      Platform   \n",
       "16714            Winning Post 8 2016      PSV             2016    Simulation   \n",
       "\n",
       "       na_sales  eu_sales  jp_sales  other_sales  critic_score user_score  \\\n",
       "0         41.36     28.96      3.77         8.45          76.0          8   \n",
       "1         29.08      3.58      6.81         0.77           NaN        NaN   \n",
       "2         15.68     12.76      3.79         3.29          82.0        8.3   \n",
       "3         15.61     10.93      3.28         2.95          80.0          8   \n",
       "4         11.27      8.89     10.22         1.00           NaN        NaN   \n",
       "...         ...       ...       ...          ...           ...        ...   \n",
       "16710      0.00      0.00      0.01         0.00           NaN        NaN   \n",
       "16711      0.00      0.01      0.00         0.00           NaN        NaN   \n",
       "16712      0.00      0.00      0.01         0.00           NaN        NaN   \n",
       "16713      0.01      0.00      0.00         0.00           NaN        NaN   \n",
       "16714      0.00      0.00      0.01         0.00           NaN        NaN   \n",
       "\n",
       "       rating  sales  \n",
       "0           E  82.54  \n",
       "1      unknow  40.24  \n",
       "2           E  35.52  \n",
       "3           E  32.77  \n",
       "4      unknow  31.38  \n",
       "...       ...    ...  \n",
       "16710  unknow   0.01  \n",
       "16711  unknow   0.01  \n",
       "16712  unknow   0.01  \n",
       "16713  unknow   0.01  \n",
       "16714  unknow   0.01  \n",
       "\n",
       "[16461 rows x 12 columns]"
      ]
     },
     "execution_count": 55,
     "metadata": {},
     "output_type": "execute_result"
    }
   ],
   "source": [
    "df['sales'] = df.na_sales + df.eu_sales + df.jp_sales + df.other_sales\n",
    "df"
   ]
  },
  {
   "cell_type": "markdown",
   "metadata": {},
   "source": [
    "## Шаг 3. Проведите исследовательский анализ данных\n",
    "### Продажи по годам\n",
    "Посмотрим, как продавались игры в разные годы."
   ]
  },
  {
   "cell_type": "code",
   "execution_count": 56,
   "metadata": {},
   "outputs": [
    {
     "data": {
      "image/png": "[encoded data removed]",
      "text/plain": [
       "<Figure size 432x288 with 1 Axes>"
      ]
     },
     "metadata": {
      "needs_background": "light"
     },
     "output_type": "display_data"
    }
   ],
   "source": [
    "myhist(37, df.loc[df['year_of_release'].notnull(), 'year_of_release'], 'год выпуска')"
   ]
  },
  {
   "cell_type": "markdown",
   "metadata": {},
   "source": [
    "Особо прибыльными для интернет магазина становились года с 2005 по 2011. Резкое падение в 2012 году. С него и стоит анализировать данные, так как успешные года будут искажать картину. Но, для начала, посмотрим на исторические данные:"
   ]
  },
  {
   "cell_type": "code",
   "execution_count": 57,
   "metadata": {},
   "outputs": [
    {
     "data": {
      "text/html": [
       "<div>\n",
       "<style scoped>\n",
       "    .dataframe tbody tr th:only-of-type {\n",
       "        vertical-align: middle;\n",
       "    }\n",
       "\n",
       "    .dataframe tbody tr th {\n",
       "        vertical-align: top;\n",
       "    }\n",
       "\n",
       "    .dataframe thead th {\n",
       "        text-align: right;\n",
       "    }\n",
       "</style>\n",
       "<table border=\"1\" class=\"dataframe\">\n",
       "  <thead>\n",
       "    <tr style=\"text-align: right;\">\n",
       "      <th></th>\n",
       "      <th>index</th>\n",
       "      <th>platform</th>\n",
       "      <th>sales</th>\n",
       "    </tr>\n",
       "  </thead>\n",
       "  <tbody>\n",
       "    <tr>\n",
       "      <td>3</td>\n",
       "      <td>16</td>\n",
       "      <td>PS2</td>\n",
       "      <td>1247.28</td>\n",
       "    </tr>\n",
       "    <tr>\n",
       "      <td>7</td>\n",
       "      <td>28</td>\n",
       "      <td>X360</td>\n",
       "      <td>961.30</td>\n",
       "    </tr>\n",
       "    <tr>\n",
       "      <td>4</td>\n",
       "      <td>17</td>\n",
       "      <td>PS3</td>\n",
       "      <td>931.34</td>\n",
       "    </tr>\n",
       "    <tr>\n",
       "      <td>6</td>\n",
       "      <td>26</td>\n",
       "      <td>Wii</td>\n",
       "      <td>891.18</td>\n",
       "    </tr>\n",
       "    <tr>\n",
       "      <td>0</td>\n",
       "      <td>4</td>\n",
       "      <td>DS</td>\n",
       "      <td>802.79</td>\n",
       "    </tr>\n",
       "    <tr>\n",
       "      <td>2</td>\n",
       "      <td>15</td>\n",
       "      <td>PS</td>\n",
       "      <td>727.58</td>\n",
       "    </tr>\n",
       "    <tr>\n",
       "      <td>5</td>\n",
       "      <td>18</td>\n",
       "      <td>PS4</td>\n",
       "      <td>314.14</td>\n",
       "    </tr>\n",
       "    <tr>\n",
       "      <td>1</td>\n",
       "      <td>6</td>\n",
       "      <td>GBA</td>\n",
       "      <td>312.88</td>\n",
       "    </tr>\n",
       "  </tbody>\n",
       "</table>\n",
       "</div>"
      ],
      "text/plain": [
       "   index platform    sales\n",
       "3     16      PS2  1247.28\n",
       "7     28     X360   961.30\n",
       "4     17      PS3   931.34\n",
       "6     26      Wii   891.18\n",
       "0      4       DS   802.79\n",
       "2     15       PS   727.58\n",
       "5     18      PS4   314.14\n",
       "1      6      GBA   312.88"
      ]
     },
     "execution_count": 57,
     "metadata": {},
     "output_type": "execute_result"
    }
   ],
   "source": [
    "ys = df.groupby(['year_of_release'])['sales'].sum().reset_index()\n",
    "ps = df.groupby(['platform'])['sales'].sum().reset_index()\n",
    "ps = ps.loc[(ps['sales']>300)].reset_index().sort_values('sales', ascending=False)\n",
    "ps\n",
    "ysp = df.groupby(['year_of_release','platform' ])['sales'].sum().reset_index()\n",
    "ps"
   ]
  },
  {
   "cell_type": "code",
   "execution_count": 58,
   "metadata": {},
   "outputs": [
    {
     "data": {
      "image/png": "[encoded data removed]",
      "text/plain": [
       "<Figure size 1152x576 with 1 Axes>"
      ]
     },
     "metadata": {
      "needs_background": "light"
     },
     "output_type": "display_data"
    }
   ],
   "source": [
    "ax=ys.sort_values('year_of_release').plot(x='year_of_release', y='sales',grid=True,figsize=(16, 8), title = f'График {1}: зависимости цены от удалённости от центра')\n",
    "ysp = df.groupby(['year_of_release','platform' ])['sales'].sum().reset_index()\n",
    "gn=1\n",
    "t = f'График {gn}: продажи игр в год выпуска'\n",
    "\n",
    "for platf in ps['platform']:\n",
    "    ysp.loc[ysp['platform'] == platf].sort_values('year_of_release').plot(x='year_of_release', y='sales', label = platf,grid=True,figsize=(16, 8),ax=ax, title = t)\n"
   ]
  },
  {
   "cell_type": "markdown",
   "metadata": {},
   "source": [
    "По получившимся графикам видно, что популярность продаж игр на успешные платформы, в основном, следует следующему патерну: после появление платформы продажи игр идут вверх примерно 5 лет. Потом, примерно 5 лет покупательский интерес также идет на спад. Но, в нынешние годины угасания продаж видим, что для PS4 продажи шли вверх только 2,5 года. Такое уже бывало: для PS2 в 2004 году, когда продажи в целом шли вниз, они также и утянули пик продаж, поэтому график получился с двумя пиками, вместо одного. Такая же картина для приставки GBA в тех же временных рамках. Что же с PS4 - угасание покупательского интереса в связи с ситуацией в целом, или скорость развития технологий увеличилась - оба варианта имеют место быть.\n",
    "\n",
    "Посмотрим на популярнейшие платформы с 2012 года, если  судить по продажам. Помотрим и на самые молодые платформы."
   ]
  },
  {
   "cell_type": "markdown",
   "metadata": {},
   "source": [
    "<div class=\"alert alert-success\">\n",
    "<h2> Комментарии от ревьюера, проверка №1</h2>\n",
    "    \n",
    "Согласен \n",
    "</div>"
   ]
  },
  {
   "cell_type": "code",
   "execution_count": 15,
   "metadata": {},
   "outputs": [
    {
     "data": {
      "text/html": [
       "<div>\n",
       "<style scoped>\n",
       "    .dataframe tbody tr th:only-of-type {\n",
       "        vertical-align: middle;\n",
       "    }\n",
       "\n",
       "    .dataframe tbody tr th {\n",
       "        vertical-align: top;\n",
       "    }\n",
       "\n",
       "    .dataframe thead th {\n",
       "        text-align: right;\n",
       "    }\n",
       "</style>\n",
       "<table border=\"1\" class=\"dataframe\">\n",
       "  <thead>\n",
       "    <tr style=\"text-align: right;\">\n",
       "      <th></th>\n",
       "      <th>index</th>\n",
       "      <th>platform</th>\n",
       "      <th>sales</th>\n",
       "    </tr>\n",
       "  </thead>\n",
       "  <tbody>\n",
       "    <tr>\n",
       "      <td>3</td>\n",
       "      <td>4</td>\n",
       "      <td>PS4</td>\n",
       "      <td>314.14</td>\n",
       "    </tr>\n",
       "    <tr>\n",
       "      <td>2</td>\n",
       "      <td>3</td>\n",
       "      <td>PS3</td>\n",
       "      <td>288.79</td>\n",
       "    </tr>\n",
       "    <tr>\n",
       "      <td>5</td>\n",
       "      <td>9</td>\n",
       "      <td>X360</td>\n",
       "      <td>236.54</td>\n",
       "    </tr>\n",
       "    <tr>\n",
       "      <td>0</td>\n",
       "      <td>0</td>\n",
       "      <td>3DS</td>\n",
       "      <td>194.61</td>\n",
       "    </tr>\n",
       "    <tr>\n",
       "      <td>6</td>\n",
       "      <td>10</td>\n",
       "      <td>XOne</td>\n",
       "      <td>159.32</td>\n",
       "    </tr>\n",
       "    <tr>\n",
       "      <td>4</td>\n",
       "      <td>8</td>\n",
       "      <td>WiiU</td>\n",
       "      <td>82.19</td>\n",
       "    </tr>\n",
       "    <tr>\n",
       "      <td>1</td>\n",
       "      <td>2</td>\n",
       "      <td>PC</td>\n",
       "      <td>62.65</td>\n",
       "    </tr>\n",
       "  </tbody>\n",
       "</table>\n",
       "</div>"
      ],
      "text/plain": [
       "   index platform   sales\n",
       "3      4      PS4  314.14\n",
       "2      3      PS3  288.79\n",
       "5      9     X360  236.54\n",
       "0      0      3DS  194.61\n",
       "6     10     XOne  159.32\n",
       "4      8     WiiU   82.19\n",
       "1      2       PC   62.65"
      ]
     },
     "execution_count": 15,
     "metadata": {},
     "output_type": "execute_result"
    }
   ],
   "source": [
    "ps = df.loc[df['year_of_release']>=2012].groupby(['platform'])['sales'].sum().reset_index()\n",
    "ps = ps.loc[(ps['sales']>50)].reset_index().sort_values('sales', ascending=False)\n",
    "top_platforms = ps['platform'].tolist()\n",
    "ps"
   ]
  },
  {
   "cell_type": "markdown",
   "metadata": {},
   "source": [
    "<div class=\"alert alert-success\">\n",
    "<h2> Комментарии от ревьюера, проверка №1</h2>\n",
    "    \n",
    "Очень граммотная логика выше и молодец, что сделал правильный вывод на счет того, что нужно смотреть на платформы расстущие последние 203 года\n",
    "</div>"
   ]
  },
  {
   "cell_type": "code",
   "execution_count": 23,
   "metadata": {},
   "outputs": [
    {
     "data": {
      "text/plain": [
       "platform\n",
       "2600    1980\n",
       "NES     1983\n",
       "DS      1985\n",
       "PC      1985\n",
       "GB      1988\n",
       "SNES    1990\n",
       "GEN     1990\n",
       "GG      1992\n",
       "SCD     1993\n",
       "NG      1993\n",
       "SAT     1994\n",
       "PS      1994\n",
       "3DO     1994\n",
       "TG16    1995\n",
       "PCFX    1996\n",
       "N64     1996\n",
       "DC      1998\n",
       "WS      1999\n",
       "GBA     2000\n",
       "XB      2000\n",
       "PS2     2000\n",
       "GC      2001\n",
       "PSP     2004\n",
       "X360    2005\n",
       "PS3     2006\n",
       "Wii     2006\n",
       "3DS     2011\n",
       "PSV     2011\n",
       "WiiU    2012\n",
       "PS4     2013\n",
       "XOne    2013\n",
       "Name: year_of_release, dtype: int64"
      ]
     },
     "execution_count": 23,
     "metadata": {},
     "output_type": "execute_result"
    }
   ],
   "source": [
    "df.groupby('platform')['year_of_release'].agg('min').sort_values()"
   ]
  },
  {
   "cell_type": "markdown",
   "metadata": {},
   "source": [
    "Самые молодые в нашем магазине уже и так одни из самых популярных, поэтому нечего перспективного и не добавить."
   ]
  },
  {
   "cell_type": "code",
   "execution_count": 24,
   "metadata": {},
   "outputs": [
    {
     "data": {
      "image/png": "[encoded data removed]",
      "text/plain": [
       "<Figure size 1152x576 with 1 Axes>"
      ]
     },
     "metadata": {
      "needs_background": "light"
     },
     "output_type": "display_data"
    }
   ],
   "source": [
    "gn+=1\n",
    "t = f'График {gn}: продажи игр в год выпуска от 2012 года'\n",
    "ax=ys.loc[ys['year_of_release']>=2012].sort_values('year_of_release').plot(x='year_of_release', y='sales',grid=True,figsize=(16, 8), title = t)\n",
    "ysp = df.groupby(['year_of_release','platform' ])['sales'].sum().reset_index()\n",
    "\n",
    "\n",
    "\n",
    "for platf in ps['platform']:\n",
    "    ysp.loc[(ysp['year_of_release']>=2012)&(ysp['platform'] == platf)].sort_values('year_of_release').plot(x='year_of_release', y='sales',label = platf, grid=True,figsize=(16, 8),ax=ax, title = t)\n",
    "\n",
    "   "
   ]
  },
  {
   "cell_type": "code",
   "execution_count": 20,
   "metadata": {},
   "outputs": [
    {
     "data": {
      "text/html": [
       "<style  type=\"text/css\" >\n",
       "    #T_052bd870_8a46_11eb_9af6_02420a39df02row0_col1 {\n",
       "            width:  10em;\n",
       "             height:  80%;\n",
       "            background:  linear-gradient(90deg,#d65f5f 100.0%, transparent 100.0%);\n",
       "        }    #T_052bd870_8a46_11eb_9af6_02420a39df02row1_col1 {\n",
       "            width:  10em;\n",
       "             height:  80%;\n",
       "            background:  linear-gradient(90deg,#d65f5f 45.8%, transparent 45.8%);\n",
       "        }    #T_052bd870_8a46_11eb_9af6_02420a39df02row2_col1 {\n",
       "            width:  10em;\n",
       "             height:  80%;\n",
       "            background:  linear-gradient(90deg,#d65f5f 22.8%, transparent 22.8%);\n",
       "        }    #T_052bd870_8a46_11eb_9af6_02420a39df02row3_col1 {\n",
       "            width:  10em;\n",
       "             height:  80%;\n",
       "            background:  linear-gradient(90deg,#d65f5f 11.1%, transparent 11.1%);\n",
       "        }    #T_052bd870_8a46_11eb_9af6_02420a39df02row4_col1 {\n",
       "            width:  10em;\n",
       "             height:  80%;\n",
       "            background:  linear-gradient(90deg,#d65f5f 10.8%, transparent 10.8%);\n",
       "        }    #T_052bd870_8a46_11eb_9af6_02420a39df02row5_col1 {\n",
       "            width:  10em;\n",
       "             height:  80%;\n",
       "            background:  linear-gradient(90deg,#d65f5f 7.3%, transparent 7.3%);\n",
       "        }    #T_052bd870_8a46_11eb_9af6_02420a39df02row6_col1 {\n",
       "            width:  10em;\n",
       "             height:  80%;\n",
       "            background:  linear-gradient(90deg,#d65f5f 7.1%, transparent 7.1%);\n",
       "        }    #T_052bd870_8a46_11eb_9af6_02420a39df02row7_col1 {\n",
       "            width:  10em;\n",
       "             height:  80%;\n",
       "            background:  linear-gradient(90deg,#d65f5f 5.5%, transparent 5.5%);\n",
       "        }    #T_052bd870_8a46_11eb_9af6_02420a39df02row8_col1 {\n",
       "            width:  10em;\n",
       "             height:  80%;\n",
       "            background:  linear-gradient(90deg,#d65f5f 0.6%, transparent 0.6%);\n",
       "        }    #T_052bd870_8a46_11eb_9af6_02420a39df02row9_col1 {\n",
       "            width:  10em;\n",
       "             height:  80%;\n",
       "        }</style><table id=\"T_052bd870_8a46_11eb_9af6_02420a39df02\" ><thead>    <tr>        <th class=\"blank level0\" ></th>        <th class=\"col_heading level0 col0\" >platform</th>        <th class=\"col_heading level0 col1\" >sales</th>    </tr></thead><tbody>\n",
       "                <tr>\n",
       "                        <th id=\"T_052bd870_8a46_11eb_9af6_02420a39df02level0_row0\" class=\"row_heading level0 row0\" >3</th>\n",
       "                        <td id=\"T_052bd870_8a46_11eb_9af6_02420a39df02row0_col0\" class=\"data row0 col0\" >PS4</td>\n",
       "                        <td id=\"T_052bd870_8a46_11eb_9af6_02420a39df02row0_col1\" class=\"data row0 col1\" >188.15</td>\n",
       "            </tr>\n",
       "            <tr>\n",
       "                        <th id=\"T_052bd870_8a46_11eb_9af6_02420a39df02level0_row1\" class=\"row_heading level0 row1\" >9</th>\n",
       "                        <td id=\"T_052bd870_8a46_11eb_9af6_02420a39df02row1_col0\" class=\"data row1 col0\" >XOne</td>\n",
       "                        <td id=\"T_052bd870_8a46_11eb_9af6_02420a39df02row1_col1\" class=\"data row1 col1\" >86.29</td>\n",
       "            </tr>\n",
       "            <tr>\n",
       "                        <th id=\"T_052bd870_8a46_11eb_9af6_02420a39df02level0_row2\" class=\"row_heading level0 row2\" >0</th>\n",
       "                        <td id=\"T_052bd870_8a46_11eb_9af6_02420a39df02row2_col0\" class=\"data row2 col0\" >3DS</td>\n",
       "                        <td id=\"T_052bd870_8a46_11eb_9af6_02420a39df02row2_col1\" class=\"data row2 col1\" >42.92</td>\n",
       "            </tr>\n",
       "            <tr>\n",
       "                        <th id=\"T_052bd870_8a46_11eb_9af6_02420a39df02level0_row3\" class=\"row_heading level0 row3\" >7</th>\n",
       "                        <td id=\"T_052bd870_8a46_11eb_9af6_02420a39df02row3_col0\" class=\"data row3 col0\" >WiiU</td>\n",
       "                        <td id=\"T_052bd870_8a46_11eb_9af6_02420a39df02row3_col1\" class=\"data row3 col1\" >20.95</td>\n",
       "            </tr>\n",
       "            <tr>\n",
       "                        <th id=\"T_052bd870_8a46_11eb_9af6_02420a39df02level0_row4\" class=\"row_heading level0 row4\" >2</th>\n",
       "                        <td id=\"T_052bd870_8a46_11eb_9af6_02420a39df02row4_col0\" class=\"data row4 col0\" >PS3</td>\n",
       "                        <td id=\"T_052bd870_8a46_11eb_9af6_02420a39df02row4_col1\" class=\"data row4 col1\" >20.42</td>\n",
       "            </tr>\n",
       "            <tr>\n",
       "                        <th id=\"T_052bd870_8a46_11eb_9af6_02420a39df02level0_row5\" class=\"row_heading level0 row5\" >1</th>\n",
       "                        <td id=\"T_052bd870_8a46_11eb_9af6_02420a39df02row5_col0\" class=\"data row5 col0\" >PC</td>\n",
       "                        <td id=\"T_052bd870_8a46_11eb_9af6_02420a39df02row5_col1\" class=\"data row5 col1\" >13.77</td>\n",
       "            </tr>\n",
       "            <tr>\n",
       "                        <th id=\"T_052bd870_8a46_11eb_9af6_02420a39df02level0_row6\" class=\"row_heading level0 row6\" >8</th>\n",
       "                        <td id=\"T_052bd870_8a46_11eb_9af6_02420a39df02row6_col0\" class=\"data row6 col0\" >X360</td>\n",
       "                        <td id=\"T_052bd870_8a46_11eb_9af6_02420a39df02row6_col1\" class=\"data row6 col1\" >13.48</td>\n",
       "            </tr>\n",
       "            <tr>\n",
       "                        <th id=\"T_052bd870_8a46_11eb_9af6_02420a39df02level0_row7\" class=\"row_heading level0 row7\" >5</th>\n",
       "                        <td id=\"T_052bd870_8a46_11eb_9af6_02420a39df02row7_col0\" class=\"data row7 col0\" >PSV</td>\n",
       "                        <td id=\"T_052bd870_8a46_11eb_9af6_02420a39df02row7_col1\" class=\"data row7 col1\" >10.5</td>\n",
       "            </tr>\n",
       "            <tr>\n",
       "                        <th id=\"T_052bd870_8a46_11eb_9af6_02420a39df02level0_row8\" class=\"row_heading level0 row8\" >6</th>\n",
       "                        <td id=\"T_052bd870_8a46_11eb_9af6_02420a39df02row8_col0\" class=\"data row8 col0\" >Wii</td>\n",
       "                        <td id=\"T_052bd870_8a46_11eb_9af6_02420a39df02row8_col1\" class=\"data row8 col1\" >1.32</td>\n",
       "            </tr>\n",
       "            <tr>\n",
       "                        <th id=\"T_052bd870_8a46_11eb_9af6_02420a39df02level0_row9\" class=\"row_heading level0 row9\" >4</th>\n",
       "                        <td id=\"T_052bd870_8a46_11eb_9af6_02420a39df02row9_col0\" class=\"data row9 col0\" >PSP</td>\n",
       "                        <td id=\"T_052bd870_8a46_11eb_9af6_02420a39df02row9_col1\" class=\"data row9 col1\" >0.12</td>\n",
       "            </tr>\n",
       "    </tbody></table>"
      ],
      "text/plain": [
       "<pandas.io.formats.style.Styler at 0x7fadc40f3850>"
      ]
     },
     "execution_count": 20,
     "metadata": {},
     "output_type": "execute_result"
    }
   ],
   "source": [
    "df.loc[df['year_of_release']>=2015].groupby(['platform'])['sales'].sum().reset_index().sort_values('sales', ascending=False).style.bar()"
   ]
  },
  {
   "cell_type": "markdown",
   "metadata": {},
   "source": [
    "Судя по графику и по следующей за ним таблицей очевидно, что самые перспективные платфоры: PS4, XOne, 3DS. Причем продажи первых двух могут еще расти (их пик, видимо, \"украл\" общий спад продаж)."
   ]
  },
  {
   "cell_type": "markdown",
   "metadata": {},
   "source": [
    "Построем график «ящик с усами» по глобальным продажам игр в разбивке по платформам. "
   ]
  },
  {
   "cell_type": "code",
   "execution_count": 21,
   "metadata": {},
   "outputs": [
    {
     "data": {
      "text/plain": [
       "(-0.5, 6.5)"
      ]
     },
     "execution_count": 21,
     "metadata": {},
     "output_type": "execute_result"
    },
    {
     "data": {
      "image/png": "[encoded data removed]",
      "text/plain": [
       "<Figure size 432x288 with 1 Axes>"
      ]
     },
     "metadata": {
      "needs_background": "light"
     },
     "output_type": "display_data"
    }
   ],
   "source": [
    "fig, ax = plt.subplots()\n",
    "df_new =  df.loc[(df['year_of_release']>=2012)]\n",
    "\n",
    "df_2014=df.loc[(df['year_of_release']>=2014)]\n",
    "\n",
    "b+=1\n",
    "ax = sns.boxplot(x=\"platform\", y=\"sales\", data=df_2014[df_2014.platform.isin(top_platforms)])\n",
    "ax.set_title(f'Диаграмма размаха {b}: продажи игр по платформам c 2014')\n",
    "ax.set_xticklabels(ps['platform'])\n",
    "ax.set_xlim(xmin=-0.5)"
   ]
  },
  {
   "cell_type": "markdown",
   "metadata": {},
   "source": [
    "У PS4 случаются анамольно высокие продажи. Рассмотрим поближе сами ящики."
   ]
  },
  {
   "cell_type": "code",
   "execution_count": 22,
   "metadata": {},
   "outputs": [
    {
     "data": {
      "image/png": "[encoded data removed]",
      "text/plain": [
       "<Figure size 432x288 with 1 Axes>"
      ]
     },
     "metadata": {
      "needs_background": "light"
     },
     "output_type": "display_data"
    }
   ],
   "source": [
    "b+=1\n",
    "ax = sns.boxplot(x=\"platform\", y=\"sales\", data=df_2014[df_2014.platform.isin(top_platforms)])\n",
    "ax.set_title(f'Диаграмма размаха {b}: продажи игр по платформам c 2014')\n",
    "ax.set_xticklabels(ps['platform'])\n",
    "ax.set_xlim(xmin=-0.5)\n",
    "ax.set_ylim(ymin=-0.1, ymax=1.75)\n",
    "\n",
    "plt.show()\n"
   ]
  },
  {
   "cell_type": "markdown",
   "metadata": {},
   "source": [
    "У лидирующих трех платформ продажи скошены вправо, что говорит о выгодности вкладывать именно в эти 2 платформы. 3DS имеет гораздо меньшую скошенность. Медианна у всех платформ примерно на одном уровне."
   ]
  },
  {
   "cell_type": "markdown",
   "metadata": {},
   "source": [
    "### Продажи и рейтинги"
   ]
  },
  {
   "cell_type": "markdown",
   "metadata": {},
   "source": [
    "Посмотрим, как влияют на продажи внутри одной популярной платформы отзывы пользователей и критиков. Построим диаграмму рассеяния и посчитаем корреляцию между отзывами и продажами."
   ]
  },
  {
   "cell_type": "code",
   "execution_count": 23,
   "metadata": {},
   "outputs": [
    {
     "name": "stdout",
     "output_type": "stream",
     "text": [
      "Матрица диаграмм рассеяния и таблица корреляции 1: пользовательский рейтинг, рейтинг критиков, продажи\n",
      "              critic_score     sales  user_score\n",
      "critic_score      1.000000  0.308197    0.517727\n",
      "sales             0.308197  1.000000    0.004429\n",
      "user_score        0.517727  0.004429    1.000000\n"
     ]
    },
    {
     "data": {
      "image/png": "[encoded data removed]",
      "text/plain": [
       "<Figure size 540x540 with 12 Axes>"
      ]
     },
     "metadata": {
      "needs_background": "light"
     },
     "output_type": "display_data"
    }
   ],
   "source": [
    "df_matrix = df_new.pivot_table(index=df_new.index, values=['sales','critic_score','user_score']) \n",
    "\n",
    "sns_plot = sns.pairplot(df_matrix)\n",
    "sns_plot.savefig('pairplot.png')\n",
    "m = 1\n",
    "print(f'Матрица диаграмм рассеяния и таблица корреляции {m}: пользовательский рейтинг, рейтинг критиков, продажи')\n",
    "print(df_matrix.corr()) "
   ]
  },
  {
   "cell_type": "markdown",
   "metadata": {},
   "source": [
    "Между отзывами критиков и пользователей есть неплохая корреляция. Продажи немного коррелируют с отзывами критиков. Предполагаю, что на продажи не влияют оценки пользователей, так как они считаются без учета \"угасающего среднего\" (см. шаг 2). "
   ]
  },
  {
   "cell_type": "markdown",
   "metadata": {},
   "source": [
    "### Продажи и жанры"
   ]
  },
  {
   "cell_type": "markdown",
   "metadata": {},
   "source": [
    "Посмотрим на общее распределение игр по жанрам"
   ]
  },
  {
   "cell_type": "code",
   "execution_count": 24,
   "metadata": {},
   "outputs": [
    {
     "data": {
      "text/html": [
       "<style  type=\"text/css\" >\n",
       "    #T_0e1ae8ea_8a46_11eb_9af6_02420a39df02row0_col1 {\n",
       "            width:  10em;\n",
       "             height:  80%;\n",
       "            background:  linear-gradient(90deg,#d65f5f 100.0%, transparent 100.0%);\n",
       "        }    #T_0e1ae8ea_8a46_11eb_9af6_02420a39df02row1_col1 {\n",
       "            width:  10em;\n",
       "             height:  80%;\n",
       "            background:  linear-gradient(90deg,#d65f5f 68.7%, transparent 68.7%);\n",
       "        }    #T_0e1ae8ea_8a46_11eb_9af6_02420a39df02row2_col1 {\n",
       "            width:  10em;\n",
       "             height:  80%;\n",
       "            background:  linear-gradient(90deg,#d65f5f 43.1%, transparent 43.1%);\n",
       "        }    #T_0e1ae8ea_8a46_11eb_9af6_02420a39df02row3_col1 {\n",
       "            width:  10em;\n",
       "             height:  80%;\n",
       "            background:  linear-gradient(90deg,#d65f5f 40.4%, transparent 40.4%);\n",
       "        }    #T_0e1ae8ea_8a46_11eb_9af6_02420a39df02row4_col1 {\n",
       "            width:  10em;\n",
       "             height:  80%;\n",
       "            background:  linear-gradient(90deg,#d65f5f 18.4%, transparent 18.4%);\n",
       "        }    #T_0e1ae8ea_8a46_11eb_9af6_02420a39df02row5_col1 {\n",
       "            width:  10em;\n",
       "             height:  80%;\n",
       "            background:  linear-gradient(90deg,#d65f5f 12.9%, transparent 12.9%);\n",
       "        }    #T_0e1ae8ea_8a46_11eb_9af6_02420a39df02row6_col1 {\n",
       "            width:  10em;\n",
       "             height:  80%;\n",
       "            background:  linear-gradient(90deg,#d65f5f 11.1%, transparent 11.1%);\n",
       "        }    #T_0e1ae8ea_8a46_11eb_9af6_02420a39df02row7_col1 {\n",
       "            width:  10em;\n",
       "             height:  80%;\n",
       "            background:  linear-gradient(90deg,#d65f5f 9.1%, transparent 9.1%);\n",
       "        }    #T_0e1ae8ea_8a46_11eb_9af6_02420a39df02row8_col1 {\n",
       "            width:  10em;\n",
       "             height:  80%;\n",
       "            background:  linear-gradient(90deg,#d65f5f 6.9%, transparent 6.9%);\n",
       "        }    #T_0e1ae8ea_8a46_11eb_9af6_02420a39df02row9_col1 {\n",
       "            width:  10em;\n",
       "             height:  80%;\n",
       "            background:  linear-gradient(90deg,#d65f5f 5.6%, transparent 5.6%);\n",
       "        }    #T_0e1ae8ea_8a46_11eb_9af6_02420a39df02row10_col1 {\n",
       "            width:  10em;\n",
       "             height:  80%;\n",
       "            background:  linear-gradient(90deg,#d65f5f 1.9%, transparent 1.9%);\n",
       "        }    #T_0e1ae8ea_8a46_11eb_9af6_02420a39df02row11_col1 {\n",
       "            width:  10em;\n",
       "             height:  80%;\n",
       "        }</style><table id=\"T_0e1ae8ea_8a46_11eb_9af6_02420a39df02\" ><thead>    <tr>        <th class=\"blank level0\" ></th>        <th class=\"col_heading level0 col0\" >genre</th>        <th class=\"col_heading level0 col1\" >sales</th>    </tr></thead><tbody>\n",
       "                <tr>\n",
       "                        <th id=\"T_0e1ae8ea_8a46_11eb_9af6_02420a39df02level0_row0\" class=\"row_heading level0 row0\" >0</th>\n",
       "                        <td id=\"T_0e1ae8ea_8a46_11eb_9af6_02420a39df02row0_col0\" class=\"data row0 col0\" >Action</td>\n",
       "                        <td id=\"T_0e1ae8ea_8a46_11eb_9af6_02420a39df02row0_col1\" class=\"data row0 col1\" >441.12</td>\n",
       "            </tr>\n",
       "            <tr>\n",
       "                        <th id=\"T_0e1ae8ea_8a46_11eb_9af6_02420a39df02level0_row1\" class=\"row_heading level0 row1\" >8</th>\n",
       "                        <td id=\"T_0e1ae8ea_8a46_11eb_9af6_02420a39df02row1_col0\" class=\"data row1 col0\" >Shooter</td>\n",
       "                        <td id=\"T_0e1ae8ea_8a46_11eb_9af6_02420a39df02row1_col1\" class=\"data row1 col1\" >304.73</td>\n",
       "            </tr>\n",
       "            <tr>\n",
       "                        <th id=\"T_0e1ae8ea_8a46_11eb_9af6_02420a39df02level0_row2\" class=\"row_heading level0 row2\" >7</th>\n",
       "                        <td id=\"T_0e1ae8ea_8a46_11eb_9af6_02420a39df02row2_col0\" class=\"data row2 col0\" >Role-Playing</td>\n",
       "                        <td id=\"T_0e1ae8ea_8a46_11eb_9af6_02420a39df02row2_col1\" class=\"data row2 col1\" >192.8</td>\n",
       "            </tr>\n",
       "            <tr>\n",
       "                        <th id=\"T_0e1ae8ea_8a46_11eb_9af6_02420a39df02level0_row3\" class=\"row_heading level0 row3\" >10</th>\n",
       "                        <td id=\"T_0e1ae8ea_8a46_11eb_9af6_02420a39df02row3_col0\" class=\"data row3 col0\" >Sports</td>\n",
       "                        <td id=\"T_0e1ae8ea_8a46_11eb_9af6_02420a39df02row3_col1\" class=\"data row3 col1\" >181.07</td>\n",
       "            </tr>\n",
       "            <tr>\n",
       "                        <th id=\"T_0e1ae8ea_8a46_11eb_9af6_02420a39df02level0_row4\" class=\"row_heading level0 row4\" >3</th>\n",
       "                        <td id=\"T_0e1ae8ea_8a46_11eb_9af6_02420a39df02row4_col0\" class=\"data row4 col0\" >Misc</td>\n",
       "                        <td id=\"T_0e1ae8ea_8a46_11eb_9af6_02420a39df02row4_col1\" class=\"data row4 col1\" >85.04</td>\n",
       "            </tr>\n",
       "            <tr>\n",
       "                        <th id=\"T_0e1ae8ea_8a46_11eb_9af6_02420a39df02level0_row5\" class=\"row_heading level0 row5\" >4</th>\n",
       "                        <td id=\"T_0e1ae8ea_8a46_11eb_9af6_02420a39df02row5_col0\" class=\"data row5 col0\" >Platform</td>\n",
       "                        <td id=\"T_0e1ae8ea_8a46_11eb_9af6_02420a39df02row5_col1\" class=\"data row5 col1\" >61</td>\n",
       "            </tr>\n",
       "            <tr>\n",
       "                        <th id=\"T_0e1ae8ea_8a46_11eb_9af6_02420a39df02level0_row6\" class=\"row_heading level0 row6\" >6</th>\n",
       "                        <td id=\"T_0e1ae8ea_8a46_11eb_9af6_02420a39df02row6_col0\" class=\"data row6 col0\" >Racing</td>\n",
       "                        <td id=\"T_0e1ae8ea_8a46_11eb_9af6_02420a39df02row6_col1\" class=\"data row6 col1\" >53.5</td>\n",
       "            </tr>\n",
       "            <tr>\n",
       "                        <th id=\"T_0e1ae8ea_8a46_11eb_9af6_02420a39df02level0_row7\" class=\"row_heading level0 row7\" >2</th>\n",
       "                        <td id=\"T_0e1ae8ea_8a46_11eb_9af6_02420a39df02row7_col0\" class=\"data row7 col0\" >Fighting</td>\n",
       "                        <td id=\"T_0e1ae8ea_8a46_11eb_9af6_02420a39df02row7_col1\" class=\"data row7 col1\" >44.49</td>\n",
       "            </tr>\n",
       "            <tr>\n",
       "                        <th id=\"T_0e1ae8ea_8a46_11eb_9af6_02420a39df02level0_row8\" class=\"row_heading level0 row8\" >9</th>\n",
       "                        <td id=\"T_0e1ae8ea_8a46_11eb_9af6_02420a39df02row8_col0\" class=\"data row8 col0\" >Simulation</td>\n",
       "                        <td id=\"T_0e1ae8ea_8a46_11eb_9af6_02420a39df02row8_col1\" class=\"data row8 col1\" >35.12</td>\n",
       "            </tr>\n",
       "            <tr>\n",
       "                        <th id=\"T_0e1ae8ea_8a46_11eb_9af6_02420a39df02level0_row9\" class=\"row_heading level0 row9\" >1</th>\n",
       "                        <td id=\"T_0e1ae8ea_8a46_11eb_9af6_02420a39df02row9_col0\" class=\"data row9 col0\" >Adventure</td>\n",
       "                        <td id=\"T_0e1ae8ea_8a46_11eb_9af6_02420a39df02row9_col1\" class=\"data row9 col1\" >29.43</td>\n",
       "            </tr>\n",
       "            <tr>\n",
       "                        <th id=\"T_0e1ae8ea_8a46_11eb_9af6_02420a39df02level0_row10\" class=\"row_heading level0 row10\" >11</th>\n",
       "                        <td id=\"T_0e1ae8ea_8a46_11eb_9af6_02420a39df02row10_col0\" class=\"data row10 col0\" >Strategy</td>\n",
       "                        <td id=\"T_0e1ae8ea_8a46_11eb_9af6_02420a39df02row10_col1\" class=\"data row10 col1\" >13.34</td>\n",
       "            </tr>\n",
       "            <tr>\n",
       "                        <th id=\"T_0e1ae8ea_8a46_11eb_9af6_02420a39df02level0_row11\" class=\"row_heading level0 row11\" >5</th>\n",
       "                        <td id=\"T_0e1ae8ea_8a46_11eb_9af6_02420a39df02row11_col0\" class=\"data row11 col0\" >Puzzle</td>\n",
       "                        <td id=\"T_0e1ae8ea_8a46_11eb_9af6_02420a39df02row11_col1\" class=\"data row11 col1\" >4.89</td>\n",
       "            </tr>\n",
       "    </tbody></table>"
      ],
      "text/plain": [
       "<pandas.io.formats.style.Styler at 0x7fadc27e5ad0>"
      ]
     },
     "execution_count": 24,
     "metadata": {},
     "output_type": "execute_result"
    }
   ],
   "source": [
    "df_gn = df_new.groupby(['genre'])['sales'].sum().reset_index().sort_values('sales', ascending=False)\n",
    "df_gn.style.bar()"
   ]
  },
  {
   "cell_type": "code",
   "execution_count": 25,
   "metadata": {},
   "outputs": [
    {
     "data": {
      "text/plain": [
       "Text(0.5, 1.0, 'Скрипичная диаграмма 1: Зависимость продаж от жанра')"
      ]
     },
     "execution_count": 25,
     "metadata": {},
     "output_type": "execute_result"
    },
    {
     "data": {
      "image/png": "[encoded data removed]",
      "text/plain": [
       "<Figure size 432x288 with 1 Axes>"
      ]
     },
     "metadata": {
      "needs_background": "light"
     },
     "output_type": "display_data"
    }
   ],
   "source": [
    "ax = sns.violinplot(x=\"genre\", y=\"sales\", data=df_new, scale=\"count\",bw =20 )\n",
    "ax.set_xlim(xmin=-1)\n",
    "ax.tick_params(direction='out', length=6, width=1)\n",
    "plt.xticks(rotation=90)\n",
    "ax.set_title('Скрипичная диаграмма 1: Зависимость продаж от жанра')"
   ]
  },
  {
   "cell_type": "markdown",
   "metadata": {},
   "source": [
    "Есть более прибыльные жанры, есть совсем не продающиеся. \n",
    "\n",
    "Самые прибльные Action и Shooter. При этом первые более однородны - продажи стремятся к медиане. Стрелялки очень не ровные - от супер-прибыльных до супер-провальных.\n",
    "\n",
    "Самые непопулярные жанры: стратегии и пазлы."
   ]
  },
  {
   "cell_type": "markdown",
   "metadata": {},
   "source": [
    "## Шаг 4. Составьте портрет пользователя каждого региона\n",
    "### Платформы\n",
    "Определим для пользователя каждого региона (NA, EU, JP) самые популярные платформы (топ-5)"
   ]
  },
  {
   "cell_type": "code",
   "execution_count": 26,
   "metadata": {},
   "outputs": [],
   "source": [
    "region = ['na_sales','eu_sales','jp_sales']\n",
    "top_platform_reg = df_new.groupby('platform')['na_sales'].sum().reset_index().sort_values('na_sales', ascending=False).reset_index()[['platform','na_sales']]\n",
    "for r in ['eu_sales','jp_sales']:\n",
    "    dfr = df_new.groupby(['platform'])[r].sum().reset_index().sort_values(r, ascending=False).reset_index()[['platform', r]]\n",
    "    top_platform_reg=top_platform_reg.merge(dfr, on='platform', how='outer')\n",
    "top_platform_reg = top_platform_reg.set_index('platform')"
   ]
  },
  {
   "cell_type": "code",
   "execution_count": 27,
   "metadata": {},
   "outputs": [
    {
     "data": {
      "text/html": [
       "<div>\n",
       "<style scoped>\n",
       "    .dataframe tbody tr th:only-of-type {\n",
       "        vertical-align: middle;\n",
       "    }\n",
       "\n",
       "    .dataframe tbody tr th {\n",
       "        vertical-align: top;\n",
       "    }\n",
       "\n",
       "    .dataframe thead th {\n",
       "        text-align: right;\n",
       "    }\n",
       "</style>\n",
       "<table border=\"1\" class=\"dataframe\">\n",
       "  <thead>\n",
       "    <tr style=\"text-align: right;\">\n",
       "      <th></th>\n",
       "      <th>na_sales</th>\n",
       "      <th>eu_sales</th>\n",
       "      <th>jp_sales</th>\n",
       "    </tr>\n",
       "    <tr>\n",
       "      <th>platform</th>\n",
       "      <th></th>\n",
       "      <th></th>\n",
       "      <th></th>\n",
       "    </tr>\n",
       "  </thead>\n",
       "  <tbody>\n",
       "    <tr>\n",
       "      <td>X360</td>\n",
       "      <td>140.05</td>\n",
       "      <td>74.52</td>\n",
       "      <td>1.57</td>\n",
       "    </tr>\n",
       "    <tr>\n",
       "      <td>PS4</td>\n",
       "      <td>108.74</td>\n",
       "      <td>141.09</td>\n",
       "      <td>15.96</td>\n",
       "    </tr>\n",
       "    <tr>\n",
       "      <td>PS3</td>\n",
       "      <td>103.38</td>\n",
       "      <td>106.86</td>\n",
       "      <td>35.29</td>\n",
       "    </tr>\n",
       "    <tr>\n",
       "      <td>XOne</td>\n",
       "      <td>93.12</td>\n",
       "      <td>51.59</td>\n",
       "      <td>0.34</td>\n",
       "    </tr>\n",
       "    <tr>\n",
       "      <td>3DS</td>\n",
       "      <td>55.31</td>\n",
       "      <td>42.64</td>\n",
       "      <td>87.79</td>\n",
       "    </tr>\n",
       "    <tr>\n",
       "      <td>WiiU</td>\n",
       "      <td>38.10</td>\n",
       "      <td>25.13</td>\n",
       "      <td>13.01</td>\n",
       "    </tr>\n",
       "    <tr>\n",
       "      <td>PC</td>\n",
       "      <td>19.12</td>\n",
       "      <td>37.76</td>\n",
       "      <td>0.00</td>\n",
       "    </tr>\n",
       "    <tr>\n",
       "      <td>Wii</td>\n",
       "      <td>17.45</td>\n",
       "      <td>11.92</td>\n",
       "      <td>3.39</td>\n",
       "    </tr>\n",
       "    <tr>\n",
       "      <td>PSV</td>\n",
       "      <td>10.98</td>\n",
       "      <td>11.36</td>\n",
       "      <td>21.04</td>\n",
       "    </tr>\n",
       "    <tr>\n",
       "      <td>DS</td>\n",
       "      <td>4.59</td>\n",
       "      <td>3.53</td>\n",
       "      <td>3.72</td>\n",
       "    </tr>\n",
       "    <tr>\n",
       "      <td>PSP</td>\n",
       "      <td>0.13</td>\n",
       "      <td>0.42</td>\n",
       "      <td>10.47</td>\n",
       "    </tr>\n",
       "  </tbody>\n",
       "</table>\n",
       "</div>"
      ],
      "text/plain": [
       "          na_sales  eu_sales  jp_sales\n",
       "platform                              \n",
       "X360        140.05     74.52      1.57\n",
       "PS4         108.74    141.09     15.96\n",
       "PS3         103.38    106.86     35.29\n",
       "XOne         93.12     51.59      0.34\n",
       "3DS          55.31     42.64     87.79\n",
       "WiiU         38.10     25.13     13.01\n",
       "PC           19.12     37.76      0.00\n",
       "Wii          17.45     11.92      3.39\n",
       "PSV          10.98     11.36     21.04\n",
       "DS            4.59      3.53      3.72\n",
       "PSP           0.13      0.42     10.47"
      ]
     },
     "execution_count": 27,
     "metadata": {},
     "output_type": "execute_result"
    }
   ],
   "source": [
    "top_platform_reg"
   ]
  },
  {
   "cell_type": "code",
   "execution_count": 29,
   "metadata": {},
   "outputs": [
    {
     "data": {
      "text/plain": [
       "Text(0.5, 1, 'Тепловая карта 1: Региональные продажи и платформы')"
      ]
     },
     "execution_count": 29,
     "metadata": {},
     "output_type": "execute_result"
    },
    {
     "data": {
      "image/png": "[encoded data removed]",
      "text/plain": [
       "<Figure size 432x288 with 2 Axes>"
      ]
     },
     "metadata": {
      "needs_background": "light"
     },
     "output_type": "display_data"
    }
   ],
   "source": [
    "tn = 1\n",
    "ax = sns.heatmap(top_platform_reg, annot=True, fmt=\".1f\", center = True)\n",
    "ax.set_title(f'Тепловая карта {tn}: Региональные продажи и платформы')"
   ]
  },
  {
   "cell_type": "markdown",
   "metadata": {},
   "source": [
    "<div class=\"alert alert-success\">\n",
    "<h2> Комментарии от ревьюера, проверка №1</h2>\n",
    "    \n",
    "Подход очень интересный и сложный и в итоге получаются очень подробные результаты\n",
    "    \n",
    "Честно, я не знаю насколько это тут обосновано, я бы ограничился просто круговой диаграммой по странам и жанрам\n",
    "</div>"
   ]
  },
  {
   "cell_type": "markdown",
   "metadata": {},
   "source": [
    "Интересные данные получились. В NA первое место Х360, когда в EU лидирует PS 4 и 3 поколения, потом уже идет Х360, в остальном 5-ка та же. JP все совсем иначе: 3DS лидирует, PSV идет следом - это портативные игровые системы. Х360 в петерку не входит, из стационарных представлены PS (более старая популярнее) и замыкает еще одна портативная WiiU.\n",
    "### Жанры\n",
    "Посмотрим на самые популярные жанры."
   ]
  },
  {
   "cell_type": "code",
   "execution_count": 30,
   "metadata": {},
   "outputs": [],
   "source": [
    "top_genre_reg = df_new.groupby('genre')['na_sales'].sum().reset_index().sort_values('na_sales', ascending=False).reset_index()[['genre','na_sales']]\n",
    "for r in ['eu_sales','jp_sales']:\n",
    "    dfr = df_new.groupby(['genre'])[r].sum().reset_index().sort_values(r, ascending=False).reset_index()[['genre', r]]\n",
    "    top_genre_reg=top_genre_reg.merge(dfr, on='genre', how='outer')\n",
    "top_genre_reg = top_genre_reg.set_index('genre')"
   ]
  },
  {
   "cell_type": "code",
   "execution_count": 31,
   "metadata": {},
   "outputs": [
    {
     "data": {
      "text/plain": [
       "Text(0.5, 1, 'Тепловая карта 2: Региональные продажи и жанры')"
      ]
     },
     "execution_count": 31,
     "metadata": {},
     "output_type": "execute_result"
    },
    {
     "data": {
      "image/png": "[encoded data removed]",
      "text/plain": [
       "<Figure size 432x288 with 2 Axes>"
      ]
     },
     "metadata": {
      "needs_background": "light"
     },
     "output_type": "display_data"
    }
   ],
   "source": [
    "ax =sns.heatmap(top_genre_reg, annot=True, fmt=\".1f\", center = True)\n",
    "tn += 1\n",
    "ax.set_title(f'Тепловая карта {tn}: Региональные продажи и жанры')"
   ]
  },
  {
   "cell_type": "code",
   "execution_count": 32,
   "metadata": {},
   "outputs": [
    {
     "data": {
      "text/html": [
       "<div>\n",
       "<style scoped>\n",
       "    .dataframe tbody tr th:only-of-type {\n",
       "        vertical-align: middle;\n",
       "    }\n",
       "\n",
       "    .dataframe tbody tr th {\n",
       "        vertical-align: top;\n",
       "    }\n",
       "\n",
       "    .dataframe thead th {\n",
       "        text-align: right;\n",
       "    }\n",
       "</style>\n",
       "<table border=\"1\" class=\"dataframe\">\n",
       "  <thead>\n",
       "    <tr style=\"text-align: right;\">\n",
       "      <th></th>\n",
       "      <th>genre</th>\n",
       "      <th>jp_sales</th>\n",
       "    </tr>\n",
       "  </thead>\n",
       "  <tbody>\n",
       "    <tr>\n",
       "      <td>0</td>\n",
       "      <td>Role-Playing</td>\n",
       "      <td>65.44</td>\n",
       "    </tr>\n",
       "    <tr>\n",
       "      <td>1</td>\n",
       "      <td>Action</td>\n",
       "      <td>52.80</td>\n",
       "    </tr>\n",
       "    <tr>\n",
       "      <td>2</td>\n",
       "      <td>Misc</td>\n",
       "      <td>12.86</td>\n",
       "    </tr>\n",
       "    <tr>\n",
       "      <td>3</td>\n",
       "      <td>Simulation</td>\n",
       "      <td>10.41</td>\n",
       "    </tr>\n",
       "    <tr>\n",
       "      <td>4</td>\n",
       "      <td>Fighting</td>\n",
       "      <td>9.44</td>\n",
       "    </tr>\n",
       "  </tbody>\n",
       "</table>\n",
       "</div>"
      ],
      "text/plain": [
       "          genre  jp_sales\n",
       "0  Role-Playing     65.44\n",
       "1        Action     52.80\n",
       "2          Misc     12.86\n",
       "3    Simulation     10.41\n",
       "4      Fighting      9.44"
      ]
     },
     "execution_count": 32,
     "metadata": {},
     "output_type": "execute_result"
    }
   ],
   "source": [
    "df_new.groupby('genre')['jp_sales'].sum().reset_index().sort_values('jp_sales', ascending=False).reset_index()[['genre','jp_sales']].head()"
   ]
  },
  {
   "cell_type": "markdown",
   "metadata": {},
   "source": [
    "В Америке и Европе все похоже Action, Shooter, Sports, Role-Playng. Последнии позиции в топ-5 различаются - в Америке это жанр разное, в Европе - гонки. В Японии все совсем по-другому. Схожа популярность Action (2е место в Японии). Можно пояснить популярностью портативных платформ.\n",
    "### Рейтинг ESRB\n",
    "Посмотрим, влияет ли рейтинг ESRB на продажи в отдельном регионе."
   ]
  },
  {
   "cell_type": "code",
   "execution_count": 33,
   "metadata": {},
   "outputs": [
    {
     "data": {
      "image/png": "[encoded data removed]",
      "text/plain": [
       "<Figure size 720x576 with 1 Axes>"
      ]
     },
     "metadata": {
      "needs_background": "light"
     },
     "output_type": "display_data"
    },
    {
     "data": {
      "text/plain": [
       "Text(0.5, 1, 'Тепловая карта 3: продажи и рейтинг ESRB')"
      ]
     },
     "execution_count": 33,
     "metadata": {},
     "output_type": "execute_result"
    },
    {
     "data": {
      "image/png": "[encoded data removed]",
      "text/plain": [
       "<Figure size 432x288 with 2 Axes>"
      ]
     },
     "metadata": {
      "needs_background": "light"
     },
     "output_type": "display_data"
    }
   ],
   "source": [
    "ax =  df_new.groupby(['rating'])['na_sales','eu_sales','jp_sales', 'other_sales'].sum().plot(kind=\"bar\",stacked=True,figsize=(10,8))\n",
    "plt.legend(loc=\"lower left\",bbox_to_anchor=(0.8,1.0))\n",
    "g+=1\n",
    "ax.set_title(f'Гистограмма {g}: продажи и рейтинг ESRB')\n",
    "plt.show()\n",
    "rat_sales = df_new.groupby(['rating'])['na_sales','eu_sales','jp_sales'].sum().reset_index()\n",
    "rat_sales = rat_sales.set_index('rating')\n",
    "ax =sns.heatmap(rat_sales, annot=True, fmt=\".1f\", center = True)\n",
    "tn += 1\n",
    "ax.set_title(f'Тепловая карта {tn}: продажи и рейтинг ESRB')"
   ]
  },
  {
   "cell_type": "markdown",
   "metadata": {},
   "source": [
    "Из графиков опять видна \"японская особенность\": игры для тинейджеров гораздо популярнее, чем в Америке и Европе в процентном соотношении. А игры для взрослых, напротив, проигрывают.\n",
    "### Слова"
   ]
  },
  {
   "cell_type": "code",
   "execution_count": 34,
   "metadata": {
    "scrolled": false
   },
   "outputs": [
    {
     "name": "stderr",
     "output_type": "stream",
     "text": [
      "/opt/conda/lib/python3.7/site-packages/ipykernel_launcher.py:31: SettingWithCopyWarning: \n",
      "A value is trying to be set on a copy of a slice from a DataFrame.\n",
      "Try using .loc[row_indexer,col_indexer] = value instead\n",
      "\n",
      "See the caveats in the documentation: http://pandas.pydata.org/pandas-docs/stable/user_guide/indexing.html#returning-a-view-versus-a-copy\n",
      "/opt/conda/lib/python3.7/site-packages/pandas/core/indexing.py:494: SettingWithCopyWarning: \n",
      "A value is trying to be set on a copy of a slice from a DataFrame.\n",
      "Try using .loc[row_indexer,col_indexer] = value instead\n",
      "\n",
      "See the caveats in the documentation: http://pandas.pydata.org/pandas-docs/stable/user_guide/indexing.html#returning-a-view-versus-a-copy\n",
      "  self.obj[item] = s\n"
     ]
    },
    {
     "data": {
      "image/png": "[encoded data removed]",
      "text/plain": [
       "<Figure size 720x576 with 1 Axes>"
      ]
     },
     "metadata": {
      "needs_background": "light"
     },
     "output_type": "display_data"
    },
    {
     "data": {
      "text/html": [
       "<style  type=\"text/css\" >\n",
       "    #T_25cee794_82fc_11eb_89d6_02420a3968d0row0_col1 {\n",
       "            width:  10em;\n",
       "             height:  80%;\n",
       "            background:  linear-gradient(90deg,#d65f5f 100.0%, transparent 100.0%);\n",
       "        }    #T_25cee794_82fc_11eb_89d6_02420a3968d0row1_col1 {\n",
       "            width:  10em;\n",
       "             height:  80%;\n",
       "            background:  linear-gradient(90deg,#d65f5f 40.6%, transparent 40.6%);\n",
       "        }    #T_25cee794_82fc_11eb_89d6_02420a3968d0row2_col1 {\n",
       "            width:  10em;\n",
       "             height:  80%;\n",
       "            background:  linear-gradient(90deg,#d65f5f 31.2%, transparent 31.2%);\n",
       "        }    #T_25cee794_82fc_11eb_89d6_02420a3968d0row3_col1 {\n",
       "            width:  10em;\n",
       "             height:  80%;\n",
       "            background:  linear-gradient(90deg,#d65f5f 31.2%, transparent 31.2%);\n",
       "        }    #T_25cee794_82fc_11eb_89d6_02420a3968d0row4_col1 {\n",
       "            width:  10em;\n",
       "             height:  80%;\n",
       "            background:  linear-gradient(90deg,#d65f5f 21.9%, transparent 21.9%);\n",
       "        }    #T_25cee794_82fc_11eb_89d6_02420a3968d0row5_col1 {\n",
       "            width:  10em;\n",
       "             height:  80%;\n",
       "            background:  linear-gradient(90deg,#d65f5f 12.5%, transparent 12.5%);\n",
       "        }    #T_25cee794_82fc_11eb_89d6_02420a3968d0row6_col1 {\n",
       "            width:  10em;\n",
       "             height:  80%;\n",
       "            background:  linear-gradient(90deg,#d65f5f 9.4%, transparent 9.4%);\n",
       "        }    #T_25cee794_82fc_11eb_89d6_02420a3968d0row7_col1 {\n",
       "            width:  10em;\n",
       "             height:  80%;\n",
       "            background:  linear-gradient(90deg,#d65f5f 3.1%, transparent 3.1%);\n",
       "        }    #T_25cee794_82fc_11eb_89d6_02420a3968d0row8_col1 {\n",
       "            width:  10em;\n",
       "             height:  80%;\n",
       "        }</style><table id=\"T_25cee794_82fc_11eb_89d6_02420a3968d0\" ><thead>    <tr>        <th class=\"blank level0\" ></th>        <th class=\"col_heading level0 col0\" >index</th>        <th class=\"col_heading level0 col1\" >word</th>    </tr></thead><tbody>\n",
       "                <tr>\n",
       "                        <th id=\"T_25cee794_82fc_11eb_89d6_02420a3968d0level0_row0\" class=\"row_heading level0 row0\" >0</th>\n",
       "                        <td id=\"T_25cee794_82fc_11eb_89d6_02420a3968d0row0_col0\" class=\"data row0 col0\" >lego</td>\n",
       "                        <td id=\"T_25cee794_82fc_11eb_89d6_02420a3968d0row0_col1\" class=\"data row0 col1\" >84</td>\n",
       "            </tr>\n",
       "            <tr>\n",
       "                        <th id=\"T_25cee794_82fc_11eb_89d6_02420a3968d0level0_row1\" class=\"row_heading level0 row1\" >1</th>\n",
       "                        <td id=\"T_25cee794_82fc_11eb_89d6_02420a3968d0row1_col0\" class=\"data row1 col0\" >world</td>\n",
       "                        <td id=\"T_25cee794_82fc_11eb_89d6_02420a3968d0row1_col1\" class=\"data row1 col1\" >65</td>\n",
       "            </tr>\n",
       "            <tr>\n",
       "                        <th id=\"T_25cee794_82fc_11eb_89d6_02420a3968d0level0_row2\" class=\"row_heading level0 row2\" >2</th>\n",
       "                        <td id=\"T_25cee794_82fc_11eb_89d6_02420a3968d0row2_col0\" class=\"data row2 col0\" >super</td>\n",
       "                        <td id=\"T_25cee794_82fc_11eb_89d6_02420a3968d0row2_col1\" class=\"data row2 col1\" >62</td>\n",
       "            </tr>\n",
       "            <tr>\n",
       "                        <th id=\"T_25cee794_82fc_11eb_89d6_02420a3968d0level0_row3\" class=\"row_heading level0 row3\" >3</th>\n",
       "                        <td id=\"T_25cee794_82fc_11eb_89d6_02420a3968d0row3_col0\" class=\"data row3 col0\" >pro</td>\n",
       "                        <td id=\"T_25cee794_82fc_11eb_89d6_02420a3968d0row3_col1\" class=\"data row3 col1\" >62</td>\n",
       "            </tr>\n",
       "            <tr>\n",
       "                        <th id=\"T_25cee794_82fc_11eb_89d6_02420a3968d0level0_row4\" class=\"row_heading level0 row4\" >4</th>\n",
       "                        <td id=\"T_25cee794_82fc_11eb_89d6_02420a3968d0row4_col0\" class=\"data row4 col0\" >star</td>\n",
       "                        <td id=\"T_25cee794_82fc_11eb_89d6_02420a3968d0row4_col1\" class=\"data row4 col1\" >59</td>\n",
       "            </tr>\n",
       "            <tr>\n",
       "                        <th id=\"T_25cee794_82fc_11eb_89d6_02420a3968d0level0_row5\" class=\"row_heading level0 row5\" >5</th>\n",
       "                        <td id=\"T_25cee794_82fc_11eb_89d6_02420a3968d0row5_col0\" class=\"data row5 col0\" >dragon</td>\n",
       "                        <td id=\"T_25cee794_82fc_11eb_89d6_02420a3968d0row5_col1\" class=\"data row5 col1\" >56</td>\n",
       "            </tr>\n",
       "            <tr>\n",
       "                        <th id=\"T_25cee794_82fc_11eb_89d6_02420a3968d0level0_row6\" class=\"row_heading level0 row6\" >6</th>\n",
       "                        <td id=\"T_25cee794_82fc_11eb_89d6_02420a3968d0row6_col0\" class=\"data row6 col0\" >game</td>\n",
       "                        <td id=\"T_25cee794_82fc_11eb_89d6_02420a3968d0row6_col1\" class=\"data row6 col1\" >55</td>\n",
       "            </tr>\n",
       "            <tr>\n",
       "                        <th id=\"T_25cee794_82fc_11eb_89d6_02420a3968d0level0_row7\" class=\"row_heading level0 row7\" >7</th>\n",
       "                        <td id=\"T_25cee794_82fc_11eb_89d6_02420a3968d0row7_col0\" class=\"data row7 col0\" >legend</td>\n",
       "                        <td id=\"T_25cee794_82fc_11eb_89d6_02420a3968d0row7_col1\" class=\"data row7 col1\" >53</td>\n",
       "            </tr>\n",
       "            <tr>\n",
       "                        <th id=\"T_25cee794_82fc_11eb_89d6_02420a3968d0level0_row8\" class=\"row_heading level0 row8\" >8</th>\n",
       "                        <td id=\"T_25cee794_82fc_11eb_89d6_02420a3968d0row8_col0\" class=\"data row8 col0\" >hero</td>\n",
       "                        <td id=\"T_25cee794_82fc_11eb_89d6_02420a3968d0row8_col1\" class=\"data row8 col1\" >52</td>\n",
       "            </tr>\n",
       "    </tbody></table>"
      ],
      "text/plain": [
       "<pandas.io.formats.style.Styler at 0x7efec6ad4d10>"
      ]
     },
     "execution_count": 34,
     "metadata": {},
     "output_type": "execute_result"
    }
   ],
   "source": [
    "nonsens = ['the', 'of', 'no', 'to', 'and', ' ', 'in', 'for', '' ]\n",
    "def My_stem(queries):\n",
    "    stl = []\n",
    "    for query in queries:\n",
    "        for word in query.split(' '):           \n",
    "            stemmed_word = en_stemmer.stem(word)\n",
    "            stemmed_word = re.sub(r'[^\\D]|[^\\w]','',stemmed_word)\n",
    "            if (stemmed_word not in nonsens) and (stemmed_word!= ''):        \n",
    "                stl.append(stemmed_word)\n",
    "            \n",
    "    return stl\n",
    "def My_stem2(queries):\n",
    "    stl = []\n",
    "    \n",
    "    for word in queries.split(' '):           \n",
    "        stemmed_word = en_stemmer.stem(word)\n",
    "        stemmed_word = re.sub(r'[^\\D]|[^\\w]','',stemmed_word)\n",
    "        if (stemmed_word in raz):\n",
    "            stl.append(stemmed_word)\n",
    "    if stl !=[]:\n",
    "        return ''.join(stl)\n",
    "    else:\n",
    "        return ''\n",
    "\n",
    "stf= My_stem(df_new.name)\n",
    "st0 = pd.DataFrame(data=stf, columns=['words'])\n",
    "st0 = st0.words.value_counts().reset_index()\n",
    "st0 = st0.loc[st0['words'] >= 50]\n",
    "raz = st0['index'].tolist()\n",
    "\n",
    "df_new['stem_name'] = df_new.name.apply(My_stem2)\n",
    "dict_genr = {}\n",
    "for word in raz:\n",
    "    genr = df_new.query('stem_name.str.contains(@word)')['genre'].value_counts().reset_index()['index'][0]\n",
    "    dict_genr[word] = genr\n",
    "\n",
    "for key, value in dict_genr.items():\n",
    "    df_new.loc[(df_new['genre'].isnull())&(df_new['stem_name'].str.contains(key)),'genre'] = df_new.loc[(df['genre'].isnull())&(df_new['stem_name'].str.contains(key)),'genre'].fillna(value)\n",
    "df_new.stem_name.unique()\n",
    "\n",
    "word_sale = pd.DataFrame({'na_sales':[],'eu_sales':[],'jp_sales':[],'word':[]})\n",
    "for word in raz:\n",
    "    mat = df_new.loc[df_new['stem_name'].str.contains(word),['na_sales','eu_sales','jp_sales']]\n",
    "    mat['word'] = word\n",
    "    mat = mat[['na_sales','eu_sales','jp_sales','word']]\n",
    "    word_sale = pd.concat([word_sale, mat])\n",
    "\n",
    "ax =  word_sale.groupby(['word'])['na_sales','eu_sales','jp_sales'].sum().plot(kind=\"bar\",stacked=True,figsize=(10,8))\n",
    "plt.legend(loc=\"lower left\",bbox_to_anchor=(0.8,1.0))\n",
    "g+=1\n",
    "ax.set_title(f'Гистограмма {g}: продажи и слова в названии игры')\n",
    "plt.show()\n",
    "word_sale.word.value_counts().reset_index().style.bar()"
   ]
  },
  {
   "cell_type": "markdown",
   "metadata": {},
   "source": [
    "Самое продающее слово - super, затем идет слово lego, совсем не популярное в Японии. Инетерсно, что игр со словом lego в названии физически больше, но все равно лидирует super. Замыкает топ-3 драконы - их рейтинг делает Япония. Дышат в спину star, word и hero."
   ]
  },
  {
   "cell_type": "markdown",
   "metadata": {},
   "source": [
    "## Шаг 5. Проверьте гипотезы"
   ]
  },
  {
   "cell_type": "markdown",
   "metadata": {},
   "source": [
    "### Средние пользовательские рейтинги платформ Xbox One и PC\n",
    "Выдвигаем гипотезу, о том, что средние пользовательские рейтинги платформ Xbox One и PC одинаковые. Используем гипотезу о равенстве средних для зависимых (парных) выборок. Парная выборка означает, что мы измеряем некоторую переменную для одних и тех же единиц. В нашем распоряжении измерения для пользователей одного оператора на 2-х тарифах.\n",
    "\n",
    "Нулевая гипотеза: средние пользовательские рейтинги платформ Xbox One и PC одинаковые. Альтернативная гипотеза: средние пользовательские рейтинги платформ Xbox One и PC различны."
   ]
  },
  {
   "cell_type": "code",
   "execution_count": 35,
   "metadata": {
    "scrolled": true
   },
   "outputs": [
    {
     "data": {
      "text/plain": [
       "PS3     493\n",
       "PSV     411\n",
       "3DS     396\n",
       "PS4     392\n",
       "X360    292\n",
       "PC      250\n",
       "XOne    247\n",
       "PSP     173\n",
       "WiiU    147\n",
       "Wii      54\n",
       "DS       31\n",
       "Name: platform, dtype: int64"
      ]
     },
     "execution_count": 35,
     "metadata": {},
     "output_type": "execute_result"
    }
   ],
   "source": [
    "df_new.platform.value_counts()"
   ]
  },
  {
   "cell_type": "code",
   "execution_count": 36,
   "metadata": {},
   "outputs": [
    {
     "name": "stdout",
     "output_type": "stream",
     "text": [
      "дисперсия XOne:  1.8965188383045526 дисперсия PC:  2.7569952398906588\n"
     ]
    }
   ],
   "source": [
    "print('дисперсия XOne: ', np.var(df_new.query('(platform == \"XOne\")&(user_score.notnull())')['user_score']), \\\n",
    "      'дисперсия PC: ', np.var(df_new.query('(platform == \"PC\")&(user_score.notnull())')['user_score']))"
   ]
  },
  {
   "cell_type": "markdown",
   "metadata": {},
   "source": [
    "Так как у наших выборок разные дисперсии, то нам необходимо использовать t-критерий Уэлча"
   ]
  },
  {
   "cell_type": "code",
   "execution_count": 37,
   "metadata": {},
   "outputs": [],
   "source": [
    "xbox_score = df_new.query('(platform == \"XOne\")&(user_score.notnull())')['user_score']\n",
    "pc_score =df_new.query('(platform == \"PC\")&(user_score.notnull())')['user_score'].sample(n=len(df_new.query('(platform == \"XOne\")&(user_score.notnull())'))) "
   ]
  },
  {
   "cell_type": "code",
   "execution_count": 38,
   "metadata": {},
   "outputs": [
    {
     "name": "stdout",
     "output_type": "stream",
     "text": [
      "cредние пользовательские рейтинги пользователей PC:  6.47\n",
      "cредние пользовательские рейтинги пользователей Xbox One:  6.52\n",
      "p-значение: 0.7317929217116024\n",
      "Не получилось отвергнуть нулевую гипотезу\n"
     ]
    }
   ],
   "source": [
    "pc_score_m = round(pc_score.mean(),2)\n",
    "xbox_score_m =round(xbox_score.mean(),2)\n",
    "\n",
    "alpha = .05 # критический уровень статистической значимости\n",
    "\n",
    "print('cредние пользовательские рейтинги пользователей PC: ',pc_score_m)\n",
    "print('cредние пользовательские рейтинги пользователей Xbox One: ',xbox_score_m)\n",
    "\n",
    "results = st.ttest_ind(pc_score, xbox_score, equal_var = False)\n",
    "print('p-значение:', results.pvalue)\n",
    "\n",
    "if (results.pvalue < alpha):\n",
    "    print(\"Отвергаем нулевую гипотезу\")\n",
    "else:\n",
    "    print(\"Не получилось отвергнуть нулевую гипотезу\")"
   ]
  },
  {
   "cell_type": "markdown",
   "metadata": {},
   "source": [
    "### Средние пользовательские рейтинги жанров Action (англ. «действие», экшен-игры) и Sports (англ. «спортивные соревнования»)\n",
    "\n",
    "Нулевая гипотеза: средние пользовательские рейтинги жанров Action и Sports одинаковые. Альтернативная гипотеза: средние пользовательские рейтинги Action и Sports различны."
   ]
  },
  {
   "cell_type": "code",
   "execution_count": 39,
   "metadata": {
    "scrolled": true
   },
   "outputs": [
    {
     "data": {
      "text/plain": [
       "Action          1031\n",
       "Role-Playing     370\n",
       "Adventure        302\n",
       "Sports           268\n",
       "Shooter          235\n",
       "Misc             192\n",
       "Racing           115\n",
       "Fighting         109\n",
       "Platform          85\n",
       "Simulation        80\n",
       "Strategy          71\n",
       "Puzzle            28\n",
       "Name: genre, dtype: int64"
      ]
     },
     "execution_count": 39,
     "metadata": {},
     "output_type": "execute_result"
    }
   ],
   "source": [
    "df_new.genre.value_counts()"
   ]
  },
  {
   "cell_type": "code",
   "execution_count": 40,
   "metadata": {},
   "outputs": [],
   "source": [
    "action_score = df_new.query('(genre == \"Action\")&(user_score.notnull())')['user_score'].sample(n=len(df_new.query('(genre == \"Sports\")&(user_score.notnull())'))) \n",
    "sports_score =df_new.query('(genre == \"Sports\")&(user_score.notnull())')['user_score']"
   ]
  },
  {
   "cell_type": "code",
   "execution_count": 42,
   "metadata": {},
   "outputs": [
    {
     "name": "stdout",
     "output_type": "stream",
     "text": [
      "дисперсия Action:  1.8854720340439224 дисперсия Sports:  3.0073882971729127\n"
     ]
    }
   ],
   "source": [
    "print('дисперсия Action: ', np.var(df_new.query('(genre == \"Action\")&(user_score.notnull())')['user_score']), \\\n",
    "      'дисперсия Sports: ', np.var(df_new.query('(genre == \"Sports\")&(user_score.notnull())')['user_score']))"
   ]
  },
  {
   "cell_type": "code",
   "execution_count": 43,
   "metadata": {},
   "outputs": [
    {
     "name": "stdout",
     "output_type": "stream",
     "text": [
      "cредние пользовательские рейтинги пользователей Action:  6.79\n",
      "cредние пользовательские рейтинги пользователей Sports:  5.46\n",
      "p-значение: 1.236815849759443e-15\n",
      "Отвергаем нулевую гипотезу\n"
     ]
    }
   ],
   "source": [
    "action_score_m = round(action_score.mean(),2)\n",
    "sports_score_m =round(sports_score.mean(),2)\n",
    "\n",
    "print('cредние пользовательские рейтинги пользователей Action: ',action_score_m)\n",
    "print('cредние пользовательские рейтинги пользователей Sports: ',sports_score_m)\n",
    "\n",
    "results = st.ttest_ind(action_score, sports_score, equal_var = False)\n",
    "\n",
    "print('p-значение:', results.pvalue)\n",
    "\n",
    "if (results.pvalue < alpha):\n",
    "    print(\"Отвергаем нулевую гипотезу\")\n",
    "else:\n",
    "    print(\"Не получилось отвергнуть нулевую гипотезу\")"
   ]
  },
  {
   "cell_type": "markdown",
   "metadata": {},
   "source": [
    "## Вывод\n",
    "\n",
    "Для магазина \"Стримчик\" золотая пора длилась с 2005 по 2012 годы - затем наступил резкий обвал продаж, в котором, по состоянию на 2016 год он и находится - поэтому анализировлся именно этот период. Популярность платформ менялась, среднее время популярности самых топовых из них около 5 лет, затем 5-летний спад. Свежая PS4 платформа достигла своего максимума за 2,5 года - это может объяснятся в целом спадом рынка, так и скоростью появлений новых технологий. Потенциально прибыльные платформы на основе анализа PS4, XOne, 3DS, WiiU. При этом 2 последнии из них - портативные системы, которые популярны в Японии.\n",
    "\n",
    "Отзывы критиков имеют чуть большее влияние на продажи, чем отзывы пользователей. Предположим, что эти оценки не сбалансированы методом прибавления \"затухающего среднего\".\n",
    " \n",
    "В Америке и Европе топ-3 популярных жанров одинаковы: Action, Shooter, Sports. В Японии все по-другому: Role-Playing, Action, Misc.\n",
    "\n",
    "Что касается рейтинга ESRB опять видна \"японская особенность\": игры для тинеджеров гораздо популярнее, чем в Америке и Европе в процентном соотношении. А игры для взрослых, напротив, проигрывают.\n",
    "\n",
    "Самое продающее слово в названии игры - super, затем идет слово lego, совсем не популярное в Японии. Замыкает топ-3 драконы - их рейтинг делает Япония. Дышат в спину star, word и hero.\n",
    "\n",
    "Средние пользовательские рейтинги платформ Xbox One и PC одинаковые.\n",
    "\n",
    "Средние пользовательские рейтинги жанров Action (англ. «действие», экшен-игры) и Sports (англ. «спортивные соревнования») разные.\n"
   ]
  }
 ],
 "metadata": {
  "ExecuteTimeLog": [
   {
    "duration": 1194,
    "start_time": "2021-09-24T13:36:00.754Z"
   },
   {
    "duration": 53,
    "start_time": "2021-09-24T13:36:02.904Z"
   },
   {
    "duration": 10,
    "start_time": "2021-09-24T13:36:03.892Z"
   },
   {
    "duration": 4,
    "start_time": "2021-09-24T13:36:09.939Z"
   },
   {
    "duration": 5,
    "start_time": "2021-09-24T13:36:23.861Z"
   },
   {
    "duration": 4,
    "start_time": "2021-09-24T13:36:30.698Z"
   },
   {
    "duration": 281,
    "start_time": "2021-09-24T13:36:42.152Z"
   },
   {
    "duration": 4,
    "start_time": "2021-09-24T13:36:53.279Z"
   },
   {
    "duration": 177,
    "start_time": "2021-09-24T13:37:04.290Z"
   },
   {
    "duration": 271,
    "start_time": "2021-09-24T13:37:10.248Z"
   },
   {
    "duration": 1289,
    "start_time": "2021-09-24T19:36:24.800Z"
   },
   {
    "duration": 76,
    "start_time": "2021-09-24T19:36:33.795Z"
   },
   {
    "duration": 11,
    "start_time": "2021-09-24T19:36:34.541Z"
   },
   {
    "duration": 5,
    "start_time": "2021-09-24T19:36:40.266Z"
   },
   {
    "duration": 4,
    "start_time": "2021-09-24T19:36:55.455Z"
   },
   {
    "duration": 645,
    "start_time": "2021-09-25T05:20:41.533Z"
   },
   {
    "duration": 259,
    "start_time": "2021-09-25T05:20:43.148Z"
   },
   {
    "duration": 1336,
    "start_time": "2021-09-25T05:20:49.622Z"
   },
   {
    "duration": 53,
    "start_time": "2021-09-25T05:20:50.960Z"
   },
   {
    "duration": 10,
    "start_time": "2021-09-25T05:20:51.015Z"
   },
   {
    "duration": 3,
    "start_time": "2021-09-25T05:20:52.822Z"
   },
   {
    "duration": 9,
    "start_time": "2021-09-25T05:20:54.165Z"
   },
   {
    "duration": 1779,
    "start_time": "2021-09-25T05:20:56.395Z"
   },
   {
    "duration": 1144,
    "start_time": "2021-09-25T05:20:58.175Z"
   },
   {
    "duration": 8,
    "start_time": "2021-09-25T05:20:59.684Z"
   },
   {
    "duration": 7,
    "start_time": "2021-09-25T05:21:08.270Z"
   },
   {
    "duration": 6,
    "start_time": "2021-09-25T05:21:50.775Z"
   },
   {
    "duration": 53,
    "start_time": "2021-09-25T05:21:50.783Z"
   },
   {
    "duration": 10,
    "start_time": "2021-09-25T05:21:50.838Z"
   },
   {
    "duration": 3,
    "start_time": "2021-09-25T05:21:50.850Z"
   },
   {
    "duration": 8,
    "start_time": "2021-09-25T05:21:53.191Z"
   },
   {
    "duration": 16,
    "start_time": "2021-09-25T05:23:24.603Z"
   },
   {
    "duration": 172,
    "start_time": "2021-09-25T05:24:29.008Z"
   },
   {
    "duration": 10,
    "start_time": "2021-09-25T05:24:39.727Z"
   },
   {
    "duration": 219,
    "start_time": "2021-09-25T05:27:39.018Z"
   },
   {
    "duration": 330,
    "start_time": "2021-09-25T05:31:48.879Z"
   },
   {
    "duration": 287,
    "start_time": "2021-09-25T05:33:28.563Z"
   },
   {
    "duration": 7,
    "start_time": "2021-09-25T05:33:52.347Z"
   },
   {
    "duration": 281,
    "start_time": "2021-09-25T05:34:33.742Z"
   },
   {
    "duration": 276,
    "start_time": "2021-09-25T05:34:55.527Z"
   },
   {
    "duration": 20,
    "start_time": "2021-09-25T05:35:06.585Z"
   },
   {
    "duration": 1417,
    "start_time": "2021-09-25T06:54:13.143Z"
   },
   {
    "duration": 20,
    "start_time": "2021-09-25T06:54:16.247Z"
   },
   {
    "duration": 7,
    "start_time": "2021-09-25T06:54:33.351Z"
   },
   {
    "duration": 4238,
    "start_time": "2021-09-25T06:54:40.317Z"
   },
   {
    "duration": 6,
    "start_time": "2021-09-25T06:54:47.858Z"
   },
   {
    "duration": 98,
    "start_time": "2021-09-25T06:55:01.244Z"
   },
   {
    "duration": 94,
    "start_time": "2021-09-25T06:55:19.435Z"
   },
   {
    "duration": 281,
    "start_time": "2021-09-25T06:55:41.028Z"
   },
   {
    "duration": 6,
    "start_time": "2021-09-25T06:55:55.495Z"
   },
   {
    "duration": 7,
    "start_time": "2021-09-25T06:59:43.225Z"
   },
   {
    "duration": 307,
    "start_time": "2021-09-25T15:41:01.223Z"
   },
   {
    "duration": 1491,
    "start_time": "2021-09-25T15:41:05.384Z"
   },
   {
    "duration": 50,
    "start_time": "2021-09-25T15:41:06.877Z"
   },
   {
    "duration": 9,
    "start_time": "2021-09-25T15:41:06.929Z"
   },
   {
    "duration": 19,
    "start_time": "2021-09-25T15:41:06.940Z"
   },
   {
    "duration": 16,
    "start_time": "2021-09-25T15:41:06.961Z"
   },
   {
    "duration": 14,
    "start_time": "2021-09-25T15:41:06.978Z"
   },
   {
    "duration": 6,
    "start_time": "2021-09-25T15:41:06.999Z"
   },
   {
    "duration": 18,
    "start_time": "2021-09-25T15:41:07.008Z"
   },
   {
    "duration": 106,
    "start_time": "2021-09-25T15:41:07.028Z"
   },
   {
    "duration": 20,
    "start_time": "2021-09-25T15:41:07.136Z"
   },
   {
    "duration": 297,
    "start_time": "2021-09-25T15:41:07.158Z"
   },
   {
    "duration": 20,
    "start_time": "2021-09-25T15:41:07.457Z"
   },
   {
    "duration": 561,
    "start_time": "2021-09-25T15:41:07.478Z"
   },
   {
    "duration": 15,
    "start_time": "2021-09-25T15:41:08.040Z"
   },
   {
    "duration": 22,
    "start_time": "2021-09-25T15:41:08.215Z"
   },
   {
    "duration": 3,
    "start_time": "2021-09-25T15:47:21.778Z"
   },
   {
    "duration": 271,
    "start_time": "2021-09-25T15:47:25.637Z"
   },
   {
    "duration": 9,
    "start_time": "2021-09-25T15:47:38.955Z"
   },
   {
    "duration": 6,
    "start_time": "2021-09-25T15:47:49.877Z"
   },
   {
    "duration": 6,
    "start_time": "2021-09-25T15:47:59.297Z"
   },
   {
    "duration": 209,
    "start_time": "2021-09-25T15:50:03.265Z"
   },
   {
    "duration": 7,
    "start_time": "2021-09-25T15:50:14.143Z"
   },
   {
    "duration": 9,
    "start_time": "2021-09-25T15:50:36.557Z"
   },
   {
    "duration": 9,
    "start_time": "2021-09-25T15:50:59.832Z"
   },
   {
    "duration": 976,
    "start_time": "2021-09-25T15:51:21.035Z"
   },
   {
    "duration": 9,
    "start_time": "2021-09-25T15:51:33.000Z"
   },
   {
    "duration": 26,
    "start_time": "2021-09-25T15:52:10.923Z"
   },
   {
    "duration": 5,
    "start_time": "2021-09-25T15:52:58.051Z"
   },
   {
    "duration": 46,
    "start_time": "2021-09-25T15:52:58.059Z"
   },
   {
    "duration": 8,
    "start_time": "2021-09-25T15:52:58.107Z"
   },
   {
    "duration": 4,
    "start_time": "2021-09-25T15:52:58.117Z"
   },
   {
    "duration": 9,
    "start_time": "2021-09-25T15:52:58.122Z"
   },
   {
    "duration": 12,
    "start_time": "2021-09-25T15:52:58.133Z"
   },
   {
    "duration": 7,
    "start_time": "2021-09-25T15:52:58.146Z"
   },
   {
    "duration": 10,
    "start_time": "2021-09-25T15:52:58.155Z"
   },
   {
    "duration": 120,
    "start_time": "2021-09-25T15:52:58.166Z"
   },
   {
    "duration": 30,
    "start_time": "2021-09-25T15:52:58.288Z"
   },
   {
    "duration": 253,
    "start_time": "2021-09-25T15:52:58.319Z"
   },
   {
    "duration": 28,
    "start_time": "2021-09-25T15:52:58.574Z"
   },
   {
    "duration": 454,
    "start_time": "2021-09-25T15:52:58.603Z"
   },
   {
    "duration": 16,
    "start_time": "2021-09-25T15:52:59.058Z"
   },
   {
    "duration": 16,
    "start_time": "2021-09-25T15:53:01.876Z"
   },
   {
    "duration": 5,
    "start_time": "2021-09-25T15:54:15.923Z"
   },
   {
    "duration": 49,
    "start_time": "2021-09-25T15:54:15.930Z"
   },
   {
    "duration": 10,
    "start_time": "2021-09-25T15:54:15.981Z"
   },
   {
    "duration": 2,
    "start_time": "2021-09-25T15:54:15.994Z"
   },
   {
    "duration": 9,
    "start_time": "2021-09-25T15:54:15.998Z"
   },
   {
    "duration": 12,
    "start_time": "2021-09-25T15:54:16.009Z"
   },
   {
    "duration": 5,
    "start_time": "2021-09-25T15:54:16.023Z"
   },
   {
    "duration": 9,
    "start_time": "2021-09-25T15:54:16.030Z"
   },
   {
    "duration": 115,
    "start_time": "2021-09-25T15:54:16.041Z"
   },
   {
    "duration": 22,
    "start_time": "2021-09-25T15:54:16.157Z"
   },
   {
    "duration": 259,
    "start_time": "2021-09-25T15:54:16.181Z"
   },
   {
    "duration": 21,
    "start_time": "2021-09-25T15:54:16.442Z"
   },
   {
    "duration": 482,
    "start_time": "2021-09-25T15:54:16.465Z"
   },
   {
    "duration": 15,
    "start_time": "2021-09-25T15:54:16.948Z"
   },
   {
    "duration": 40,
    "start_time": "2021-09-25T15:54:16.965Z"
   },
   {
    "duration": 2,
    "start_time": "2021-09-25T15:54:17.007Z"
   },
   {
    "duration": 20,
    "start_time": "2021-09-25T15:54:17.011Z"
   },
   {
    "duration": 22,
    "start_time": "2021-09-25T15:54:34.881Z"
   },
   {
    "duration": 5885,
    "start_time": "2021-09-25T15:54:50.109Z"
   },
   {
    "duration": 10,
    "start_time": "2021-09-25T15:55:00.170Z"
   },
   {
    "duration": 6,
    "start_time": "2021-09-25T15:55:34.380Z"
   },
   {
    "duration": 50,
    "start_time": "2021-09-25T15:55:34.388Z"
   },
   {
    "duration": 9,
    "start_time": "2021-09-25T15:55:34.441Z"
   },
   {
    "duration": 3,
    "start_time": "2021-09-25T15:55:34.452Z"
   },
   {
    "duration": 8,
    "start_time": "2021-09-25T15:55:34.457Z"
   },
   {
    "duration": 37,
    "start_time": "2021-09-25T15:55:34.468Z"
   },
   {
    "duration": 6,
    "start_time": "2021-09-25T15:55:34.507Z"
   },
   {
    "duration": 11,
    "start_time": "2021-09-25T15:55:34.516Z"
   },
   {
    "duration": 117,
    "start_time": "2021-09-25T15:55:34.529Z"
   },
   {
    "duration": 21,
    "start_time": "2021-09-25T15:55:34.648Z"
   },
   {
    "duration": 256,
    "start_time": "2021-09-25T15:55:34.671Z"
   },
   {
    "duration": 19,
    "start_time": "2021-09-25T15:55:34.929Z"
   },
   {
    "duration": 538,
    "start_time": "2021-09-25T15:55:34.950Z"
   },
   {
    "duration": 21,
    "start_time": "2021-09-25T15:55:35.490Z"
   },
   {
    "duration": 20,
    "start_time": "2021-09-25T15:55:35.512Z"
   },
   {
    "duration": 3,
    "start_time": "2021-09-25T15:55:35.533Z"
   },
   {
    "duration": 3,
    "start_time": "2021-09-25T15:55:36.350Z"
   },
   {
    "duration": 27,
    "start_time": "2021-09-25T15:55:37.751Z"
   },
   {
    "duration": 234,
    "start_time": "2021-09-25T15:59:41.628Z"
   },
   {
    "duration": 1230,
    "start_time": "2021-09-25T15:59:59.537Z"
   },
   {
    "duration": 243,
    "start_time": "2021-09-25T16:02:39.519Z"
   },
   {
    "duration": 584,
    "start_time": "2021-09-25T16:04:12.062Z"
   },
   {
    "duration": 21,
    "start_time": "2021-09-25T16:07:42.158Z"
   },
   {
    "duration": 7,
    "start_time": "2021-09-25T16:07:58.541Z"
   },
   {
    "duration": 527,
    "start_time": "2021-09-25T16:07:59.369Z"
   },
   {
    "duration": 221,
    "start_time": "2021-09-25T16:09:26.466Z"
   },
   {
    "duration": 23,
    "start_time": "2021-09-25T16:09:47.639Z"
   },
   {
    "duration": 8,
    "start_time": "2021-09-25T16:12:21.871Z"
   },
   {
    "duration": 5,
    "start_time": "2021-09-25T16:13:21.034Z"
   },
   {
    "duration": 52,
    "start_time": "2021-09-25T16:13:21.044Z"
   },
   {
    "duration": 18,
    "start_time": "2021-09-25T16:13:21.098Z"
   },
   {
    "duration": 3,
    "start_time": "2021-09-25T16:13:21.118Z"
   },
   {
    "duration": 14,
    "start_time": "2021-09-25T16:13:21.123Z"
   },
   {
    "duration": 14,
    "start_time": "2021-09-25T16:13:21.139Z"
   },
   {
    "duration": 12,
    "start_time": "2021-09-25T16:13:21.154Z"
   },
   {
    "duration": 13,
    "start_time": "2021-09-25T16:13:21.168Z"
   },
   {
    "duration": 121,
    "start_time": "2021-09-25T16:13:21.183Z"
   },
   {
    "duration": 24,
    "start_time": "2021-09-25T16:13:21.308Z"
   },
   {
    "duration": 275,
    "start_time": "2021-09-25T16:13:21.334Z"
   },
   {
    "duration": 23,
    "start_time": "2021-09-25T16:13:21.612Z"
   },
   {
    "duration": 499,
    "start_time": "2021-09-25T16:13:21.637Z"
   },
   {
    "duration": 13,
    "start_time": "2021-09-25T16:13:22.137Z"
   },
   {
    "duration": 31,
    "start_time": "2021-09-25T16:13:22.152Z"
   },
   {
    "duration": 3,
    "start_time": "2021-09-25T16:13:22.185Z"
   },
   {
    "duration": 39,
    "start_time": "2021-09-25T16:13:22.190Z"
   },
   {
    "duration": 22,
    "start_time": "2021-09-25T16:13:22.230Z"
   },
   {
    "duration": 8,
    "start_time": "2021-09-25T16:13:22.253Z"
   },
   {
    "duration": 5,
    "start_time": "2021-09-25T16:13:32.054Z"
   },
   {
    "duration": 338,
    "start_time": "2021-09-25T20:14:35.254Z"
   },
   {
    "duration": 2034,
    "start_time": "2021-09-25T20:14:40.535Z"
   },
   {
    "duration": 73,
    "start_time": "2021-09-25T20:14:42.572Z"
   },
   {
    "duration": 16,
    "start_time": "2021-09-25T20:14:42.648Z"
   },
   {
    "duration": 6,
    "start_time": "2021-09-25T20:14:42.682Z"
   },
   {
    "duration": 16,
    "start_time": "2021-09-25T20:14:42.690Z"
   },
   {
    "duration": 22,
    "start_time": "2021-09-25T20:14:42.709Z"
   },
   {
    "duration": 8,
    "start_time": "2021-09-25T20:14:42.733Z"
   },
   {
    "duration": 52,
    "start_time": "2021-09-25T20:14:42.745Z"
   },
   {
    "duration": 184,
    "start_time": "2021-09-25T20:14:42.800Z"
   },
   {
    "duration": 45,
    "start_time": "2021-09-25T20:14:42.987Z"
   },
   {
    "duration": 687,
    "start_time": "2021-09-25T20:14:43.035Z"
   },
   {
    "duration": 68,
    "start_time": "2021-09-25T20:14:43.726Z"
   },
   {
    "duration": 1418,
    "start_time": "2021-09-25T20:14:43.798Z"
   },
   {
    "duration": 38,
    "start_time": "2021-09-25T20:14:45.220Z"
   },
   {
    "duration": 61,
    "start_time": "2021-09-25T20:14:45.282Z"
   },
   {
    "duration": 6,
    "start_time": "2021-09-25T20:14:45.346Z"
   },
   {
    "duration": 12,
    "start_time": "2021-09-25T20:14:45.402Z"
   },
   {
    "duration": 9,
    "start_time": "2021-09-25T20:14:45.418Z"
   },
   {
    "duration": 12,
    "start_time": "2021-09-25T20:14:46.178Z"
   },
   {
    "duration": 7,
    "start_time": "2021-09-25T20:15:08.815Z"
   },
   {
    "duration": 11,
    "start_time": "2021-09-25T20:15:14.444Z"
   },
   {
    "duration": 761,
    "start_time": "2021-09-25T20:15:48.259Z"
   },
   {
    "duration": 12,
    "start_time": "2021-09-25T20:30:37.415Z"
   },
   {
    "duration": 98,
    "start_time": "2021-09-25T20:30:37.432Z"
   },
   {
    "duration": 21,
    "start_time": "2021-09-25T20:30:37.534Z"
   },
   {
    "duration": 25,
    "start_time": "2021-09-25T20:30:37.559Z"
   },
   {
    "duration": 19,
    "start_time": "2021-09-25T20:30:37.587Z"
   },
   {
    "duration": 34,
    "start_time": "2021-09-25T20:30:37.610Z"
   },
   {
    "duration": 44,
    "start_time": "2021-09-25T20:30:37.648Z"
   },
   {
    "duration": 566,
    "start_time": "2021-09-25T20:30:37.699Z"
   },
   {
    "duration": 1809,
    "start_time": "2021-09-25T20:30:36.460Z"
   },
   {
    "duration": 1807,
    "start_time": "2021-09-25T20:30:36.465Z"
   },
   {
    "duration": 1805,
    "start_time": "2021-09-25T20:30:36.470Z"
   },
   {
    "duration": 1802,
    "start_time": "2021-09-25T20:30:36.475Z"
   },
   {
    "duration": 1802,
    "start_time": "2021-09-25T20:30:36.478Z"
   },
   {
    "duration": 1799,
    "start_time": "2021-09-25T20:30:36.483Z"
   },
   {
    "duration": 13,
    "start_time": "2021-09-25T20:31:41.268Z"
   },
   {
    "duration": 9,
    "start_time": "2021-09-25T20:32:05.338Z"
   },
   {
    "duration": 13,
    "start_time": "2021-09-25T20:32:15.902Z"
   },
   {
    "duration": 15,
    "start_time": "2021-09-25T20:32:43.648Z"
   },
   {
    "duration": 87,
    "start_time": "2021-09-25T20:33:11.669Z"
   },
   {
    "duration": 23,
    "start_time": "2021-09-25T20:33:13.276Z"
   },
   {
    "duration": 6,
    "start_time": "2021-09-25T20:33:19.009Z"
   },
   {
    "duration": 17,
    "start_time": "2021-09-25T20:33:20.618Z"
   },
   {
    "duration": 34,
    "start_time": "2021-09-25T20:33:27.099Z"
   },
   {
    "duration": 13,
    "start_time": "2021-09-25T20:33:28.349Z"
   },
   {
    "duration": 6,
    "start_time": "2021-09-25T20:33:29.306Z"
   },
   {
    "duration": 10,
    "start_time": "2021-09-25T20:33:30.273Z"
   },
   {
    "duration": 6,
    "start_time": "2021-09-25T20:34:21.165Z"
   },
   {
    "duration": 10,
    "start_time": "2021-09-25T20:34:22.265Z"
   },
   {
    "duration": 33,
    "start_time": "2021-09-25T20:34:31.794Z"
   },
   {
    "duration": 4,
    "start_time": "2021-09-25T20:34:34.012Z"
   },
   {
    "duration": 12,
    "start_time": "2021-09-25T20:34:34.861Z"
   },
   {
    "duration": 13,
    "start_time": "2021-09-25T20:35:11.404Z"
   },
   {
    "duration": 35,
    "start_time": "2021-09-25T20:35:32.061Z"
   },
   {
    "duration": 14,
    "start_time": "2021-09-25T20:35:48.668Z"
   },
   {
    "duration": 8,
    "start_time": "2021-09-25T20:35:54.032Z"
   },
   {
    "duration": 5,
    "start_time": "2021-09-25T20:36:00.851Z"
   },
   {
    "duration": 34,
    "start_time": "2021-09-25T20:36:02.810Z"
   },
   {
    "duration": 398,
    "start_time": "2021-09-25T20:36:04.988Z"
   },
   {
    "duration": 31,
    "start_time": "2021-09-25T20:36:07.428Z"
   },
   {
    "duration": 750,
    "start_time": "2021-09-25T20:36:10.406Z"
   }
  ],
  "kernelspec": {
   "display_name": "Python 3",
   "language": "python",
   "name": "python3"
  },
  "language_info": {
   "codemirror_mode": {
    "name": "ipython",
    "version": 3
   },
   "file_extension": ".py",
   "mimetype": "text/x-python",
   "name": "python",
   "nbconvert_exporter": "python",
   "pygments_lexer": "ipython3",
   "version": "3.8.5"
  },
  "toc": {
   "base_numbering": 1,
   "nav_menu": {},
   "number_sections": true,
   "sideBar": true,
   "skip_h1_title": true,
   "title_cell": "Table of Contents",
   "title_sidebar": "Contents",
   "toc_cell": false,
   "toc_position": {},
   "toc_section_display": true,
   "toc_window_display": false
  }
 },
 "nbformat": 4,
 "nbformat_minor": 2
}
